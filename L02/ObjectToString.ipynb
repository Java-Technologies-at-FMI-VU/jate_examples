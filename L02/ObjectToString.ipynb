{
 "cells": [
  {
   "cell_type": "code",
   "execution_count": null,
   "metadata": {
    "collapsed": true
   },
   "outputs": [],
   "source": [
    "void print(Object o) {\n",
    "    System.out.println(o);\n",
    "}"
   ]
  },
  {
   "cell_type": "code",
   "execution_count": null,
   "metadata": {
    "collapsed": true
   },
   "outputs": [],
   "source": [
    "public class Car {\n",
    "\n",
    "    private final String make;\n",
    "    private int speed = 0;\n",
    "    \n",
    "    public Car(String make) {\n",
    "        this.make = make;\n",
    "    }\n",
    "\n",
    "    public void setSpeed(int speed) {\n",
    "        this.speed = speed;\n",
    "    }\n",
    "\n",
    "    public String getMake() { return make; }\n",
    "    \n",
    "    public int getSpeed() { return speed; }\n",
    "\n",
    "    public void info() {\n",
    "        System.out.println(make + \" car speed is \" + speed + \" km/h\");\n",
    "    }\n",
    "    \n",
    "}"
   ]
  },
  {
   "cell_type": "code",
   "execution_count": null,
   "metadata": {
    "collapsed": false
   },
   "outputs": [],
   "source": [
    "new Car(\"Audi\");"
   ]
  },
  {
   "cell_type": "code",
   "execution_count": null,
   "metadata": {
    "collapsed": false
   },
   "outputs": [],
   "source": [
    "public class Car {\n",
    "\n",
    "    private final String make;\n",
    "    private int speed = 0;\n",
    "    \n",
    "    public Car(String make) {\n",
    "        this.make = make;\n",
    "    }\n",
    "\n",
    "    public void setSpeed(int speed) {\n",
    "        this.speed = speed;\n",
    "    }\n",
    "\n",
    "    public String getMake() { return make; }\n",
    "    \n",
    "    public int getSpeed() { return speed; }\n",
    "\n",
    "    @Override\n",
    "    public int hashCode() {\n",
    "        return 1;\n",
    "    }\n",
    "\n",
    "    public void info() {\n",
    "        System.out.println(make + \" car speed is \" + speed + \" km/h\");\n",
    "    }\n",
    "    \n",
    "}"
   ]
  },
  {
   "cell_type": "code",
   "execution_count": null,
   "metadata": {
    "collapsed": false
   },
   "outputs": [],
   "source": [
    "new Car(\"Audi\");"
   ]
  },
  {
   "cell_type": "code",
   "execution_count": null,
   "metadata": {
    "collapsed": true
   },
   "outputs": [],
   "source": [
    "public class Car {\n",
    "\n",
    "    private final String make;\n",
    "    private int speed = 0;\n",
    "    \n",
    "    public Car(String make) {\n",
    "        this.make = make;\n",
    "    }\n",
    "\n",
    "    public void setSpeed(int speed) {\n",
    "        this.speed = speed;\n",
    "    }\n",
    "\n",
    "    public String getMake() { return make; }\n",
    "    \n",
    "    public int getSpeed() { return speed; }\n",
    "\n",
    "    @Override\n",
    "    public String toString() {\n",
    "        return make + \" car speed is \" + speed + \" km/h\";\n",
    "    }\n",
    "    \n",
    "}"
   ]
  },
  {
   "cell_type": "code",
   "execution_count": null,
   "metadata": {
    "collapsed": false
   },
   "outputs": [],
   "source": [
    "new Car(\"Audi\");"
   ]
  },
  {
   "cell_type": "code",
   "execution_count": null,
   "metadata": {
    "collapsed": true
   },
   "outputs": [],
   "source": []
  }
 ],
 "metadata": {
  "kernelspec": {
   "display_name": "Java",
   "language": "java",
   "name": "java"
  },
  "language_info": {
   "codemirror_mode": "java",
   "file_extension": ".java",
   "mimetype": "text/x-java-source",
   "name": "Java",
   "pygments_lexer": "java",
   "version": "9.0.4+11"
  }
 },
 "nbformat": 4,
 "nbformat_minor": 2
}
