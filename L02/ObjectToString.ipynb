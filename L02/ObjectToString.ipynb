{
 "cells": [
  {
   "cell_type": "code",
   "execution_count": 1,
   "metadata": {
    "collapsed": true
   },
   "outputs": [],
   "source": [
    "public class Car {\n",
    "\n",
    "    private final String make;\n",
    "    private int speed = 0;\n",
    "    \n",
    "    public Car(String make) {\n",
    "        this.make = make;\n",
    "    }\n",
    "\n",
    "    public void setSpeed(int speed) {\n",
    "        this.speed = speed;\n",
    "    }\n",
    "\n",
    "    public String getMake() { return make; }\n",
    "    \n",
    "    public int getSpeed() { return speed; }\n",
    "\n",
    "    public void info() {\n",
    "        System.out.println(make + \" car speed is \" + speed + \" km/h\");\n",
    "    }\n",
    "    \n",
    "}"
   ]
  },
  {
   "cell_type": "code",
   "execution_count": 2,
   "metadata": {
    "collapsed": false
   },
   "outputs": [
    {
     "data": {
      "text/plain": [
       "Car@167fdd33"
      ]
     },
     "execution_count": 2,
     "metadata": {},
     "output_type": "execute_result"
    }
   ],
   "source": [
    "new Car(\"Audi\");"
   ]
  },
  {
   "cell_type": "code",
   "execution_count": 3,
   "metadata": {
    "collapsed": false
   },
   "outputs": [],
   "source": [
    "public class Car {\n",
    "\n",
    "    private final String make;\n",
    "    private int speed = 0;\n",
    "    \n",
    "    public Car(String make) {\n",
    "        this.make = make;\n",
    "    }\n",
    "\n",
    "    public void setSpeed(int speed) {\n",
    "        this.speed = speed;\n",
    "    }\n",
    "\n",
    "    public String getMake() { return make; }\n",
    "    \n",
    "    public int getSpeed() { return speed; }\n",
    "\n",
    "    @Override\n",
    "    public int hashCode() {\n",
    "        return 1;\n",
    "    }\n",
    "\n",
    "    public void info() {\n",
    "        System.out.println(make + \" car speed is \" + speed + \" km/h\");\n",
    "    }\n",
    "    \n",
    "}"
   ]
  },
  {
   "cell_type": "code",
   "execution_count": 4,
   "metadata": {
    "collapsed": false
   },
   "outputs": [
    {
     "data": {
      "text/plain": [
       "Car@1"
      ]
     },
     "execution_count": 4,
     "metadata": {},
     "output_type": "execute_result"
    }
   ],
   "source": [
    "new Car(\"Audi\");"
   ]
  },
  {
   "cell_type": "code",
   "execution_count": 5,
   "metadata": {
    "collapsed": true
   },
   "outputs": [],
   "source": [
    "public class Car {\n",
    "\n",
    "    private final String make;\n",
    "    private int speed = 0;\n",
    "    \n",
    "    public Car(String make) {\n",
    "        this.make = make;\n",
    "    }\n",
    "\n",
    "    public void setSpeed(int speed) {\n",
    "        this.speed = speed;\n",
    "    }\n",
    "\n",
    "    public String getMake() { return make; }\n",
    "    \n",
    "    public int getSpeed() { return speed; }\n",
    "\n",
    "    @Override\n",
    "    public String toString() {\n",
    "        return make + \" car speed is \" + speed + \" km/h\";\n",
    "    }\n",
    "    \n",
    "}"
   ]
  },
  {
   "cell_type": "code",
   "execution_count": 6,
   "metadata": {
    "collapsed": false
   },
   "outputs": [
    {
     "data": {
      "text/plain": [
       "Audi car speed is 0 km/h"
      ]
     },
     "execution_count": 6,
     "metadata": {},
     "output_type": "execute_result"
    }
   ],
   "source": [
    "new Car(\"Audi\");"
   ]
  },
  {
   "cell_type": "code",
   "execution_count": null,
   "metadata": {
    "collapsed": true
   },
   "outputs": [],
   "source": []
  }
 ],
 "metadata": {
  "kernelspec": {
   "display_name": "Java",
   "language": "java",
   "name": "java"
  },
  "language_info": {
   "codemirror_mode": "java",
   "file_extension": ".java",
   "mimetype": "text/x-java-source",
   "name": "Java",
   "pygments_lexer": "java",
   "version": "9.0.4+11"
  }
 },
 "nbformat": 4,
 "nbformat_minor": 2
}
