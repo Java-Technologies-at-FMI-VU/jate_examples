{
 "cells": [
  {
   "cell_type": "code",
   "execution_count": 1,
   "metadata": {
    "collapsed": false
   },
   "outputs": [],
   "source": [
    "class Data {\n",
    "\n",
    "    private final int number;\n",
    "    \n",
    "    Data(int number) { this.number = number; }\n",
    "    \n",
    "    @Override\n",
    "    protected void finalize() throws Throwable {\n",
    "        super.finalize();\n",
    "        System.out.format(\"Disposing #%d%n\", number);\n",
    "    }\n",
    "    \n",
    "}"
   ]
  },
  {
   "cell_type": "code",
   "execution_count": 2,
   "metadata": {
    "collapsed": true
   },
   "outputs": [],
   "source": [
    "Data d1 = new Data(1);\n",
    "Data d2 = new Data(2);\n",
    "\n",
    "d1 = null;"
   ]
  },
  {
   "cell_type": "code",
   "execution_count": 3,
   "metadata": {
    "collapsed": false
   },
   "outputs": [
    {
     "name": "stdout",
     "output_type": "stream",
     "text": [
      "Disposing #1\n"
     ]
    }
   ],
   "source": [
    "System.gc();"
   ]
  },
  {
   "cell_type": "code",
   "execution_count": 4,
   "metadata": {
    "collapsed": false
   },
   "outputs": [
    {
     "name": "stdout",
     "output_type": "stream",
     "text": [
      "REPL.$JShell$16$Data@4d95d2a2\n",
      "Disposing #2\n",
      "null\n"
     ]
    }
   ],
   "source": [
    "import java.lang.ref.SoftReference;\n",
    "import java.lang.ref.WeakReference;\n",
    "\n",
    "WeakReference<Data> w2 = new WeakReference<>(d2);\n",
    "System.out.println(w2.get());\n",
    "d2 = null;\n",
    "\n",
    "System.gc();\n",
    "System.out.println(w2.get());"
   ]
  },
  {
   "cell_type": "code",
   "execution_count": 5,
   "metadata": {
    "collapsed": false
   },
   "outputs": [
    {
     "name": "stdout",
     "output_type": "stream",
     "text": [
      "REPL.$JShell$16$Data@b7dd107\n",
      "REPL.$JShell$16$Data@b7dd107\n"
     ]
    }
   ],
   "source": [
    "Data d3 = new Data(3);\n",
    "SoftReference<Data> s3 = new SoftReference<>(d3);\n",
    "System.out.println(s3.get());\n",
    "d3 = null;\n",
    "\n",
    "System.gc();\n",
    "\n",
    "System.out.println(s3.get());"
   ]
  },
  {
   "cell_type": "code",
   "execution_count": 6,
   "metadata": {
    "collapsed": false
   },
   "outputs": [
    {
     "name": "stderr",
     "output_type": "stream",
     "text": [
      "java.lang.OutOfMemoryError: Java heap space"
     ]
    },
    {
     "name": "stdout",
     "output_type": "stream",
     "text": [
      "Disposing #"
     ]
    },
    {
     "name": "stderr",
     "output_type": "stream",
     "text": [
      "\n"
     ]
    },
    {
     "name": "stdout",
     "output_type": "stream",
     "text": [
      "3\n",
      "null\n"
     ]
    }
   ],
   "source": [
    "try {\n",
    "    String s = \"1\";\n",
    "    while (true) {\n",
    "        s = s.concat(s);\n",
    "    }\n",
    "} catch (Error ex) {\n",
    "    System.err.println(ex.toString());\n",
    "}\n",
    "\n",
    "System.out.println(s3.get());\n"
   ]
  },
  {
   "cell_type": "code",
   "execution_count": 7,
   "metadata": {
    "collapsed": false
   },
   "outputs": [],
   "source": [
    "class Database implements AutoCloseable {\n",
    "    \n",
    "    Database() {\n",
    "        print(\"Opening\");\n",
    "    }\n",
    "    \n",
    "    public void query() {\n",
    "        print(\"Querying\");\n",
    "    }\n",
    "    \n",
    "    @Override\n",
    "    public void close() throws Exception {\n",
    "        print(\"Closing\");\n",
    "    }\n",
    "    \n",
    "}"
   ]
  },
  {
   "cell_type": "code",
   "execution_count": 8,
   "metadata": {
    "collapsed": false
   },
   "outputs": [
    {
     "name": "stdout",
     "output_type": "stream",
     "text": [
      "Opening\n",
      "Querying\n",
      "Closing\n"
     ]
    }
   ],
   "source": [
    "try (Database db = new Database()) {\n",
    "    db.query();\n",
    "}"
   ]
  },
  {
   "cell_type": "code",
   "execution_count": 9,
   "metadata": {
    "collapsed": false
   },
   "outputs": [
    {
     "name": "stdout",
     "output_type": "stream",
     "text": [
      "Opening\n",
      "Opening\n",
      "Querying\n",
      "Querying\n",
      "Closing\n",
      "Closing\n"
     ]
    }
   ],
   "source": [
    "try (Database db1 = new Database();Database db2 = new Database()) {\n",
    "    db1.query();\n",
    "    db2.query();\n",
    "}"
   ]
  },
  {
   "cell_type": "code",
   "execution_count": 10,
   "metadata": {
    "collapsed": false
   },
   "outputs": [
    {
     "name": "stdout",
     "output_type": "stream",
     "text": [
      "Opening\n",
      "Querying\n",
      "Closing\n"
     ]
    }
   ],
   "source": [
    "{\n",
    "    final Database db = new Database();\n",
    "    try (db) {\n",
    "        db.query();\n",
    "    }\n",
    "}"
   ]
  },
  {
   "cell_type": "code",
   "execution_count": null,
   "metadata": {
    "collapsed": true
   },
   "outputs": [],
   "source": []
  }
 ],
 "metadata": {
  "kernelspec": {
   "display_name": "Java",
   "language": "java",
   "name": "java"
  },
  "language_info": {
   "codemirror_mode": "java",
   "file_extension": ".java",
   "mimetype": "text/x-java-source",
   "name": "Java",
   "pygments_lexer": "java",
   "version": "9.0.4+11"
  }
 },
 "nbformat": 4,
 "nbformat_minor": 2
}
