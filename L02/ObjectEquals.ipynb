{
 "cells": [
  {
   "cell_type": "code",
   "execution_count": 1,
   "metadata": {
    "collapsed": false
   },
   "outputs": [
    {
     "name": "stdout",
     "output_type": "stream",
     "text": [
      "false\n",
      "true\n"
     ]
    }
   ],
   "source": [
    "String s1 = new String(\"1\");\n",
    "String s2 = new String(\"1\");\n",
    "\n",
    "print(s1 == s2);\n",
    "print(s1.equals(s2));"
   ]
  },
  {
   "cell_type": "code",
   "execution_count": 2,
   "metadata": {
    "collapsed": false
   },
   "outputs": [
    {
     "name": "stdout",
     "output_type": "stream",
     "text": [
      "true\n",
      "true\n"
     ]
    }
   ],
   "source": [
    "String s1 = \"1\";\n",
    "String s2 = \"1\";\n",
    "\n",
    "print(s1 == s2);\n",
    "print(s1.equals(s2));"
   ]
  },
  {
   "cell_type": "code",
   "execution_count": 3,
   "metadata": {
    "collapsed": false
   },
   "outputs": [
    {
     "name": "stdout",
     "output_type": "stream",
     "text": [
      "false\n",
      "true\n"
     ]
    }
   ],
   "source": [
    "Integer i1 = new Integer(100);\n",
    "Integer i2 = new Integer(100);\n",
    "\n",
    "print(i1 == i2);\n",
    "print(i1.equals(i2));"
   ]
  },
  {
   "cell_type": "code",
   "execution_count": 4,
   "metadata": {
    "collapsed": false
   },
   "outputs": [
    {
     "name": "stdout",
     "output_type": "stream",
     "text": [
      "true\n",
      "true\n"
     ]
    }
   ],
   "source": [
    "Integer i1 = 100;\n",
    "Integer i2 = 100;\n",
    "\n",
    "print(i1 == i2);\n",
    "print(i1.equals(i2));"
   ]
  },
  {
   "cell_type": "code",
   "execution_count": 5,
   "metadata": {
    "collapsed": false
   },
   "outputs": [
    {
     "name": "stdout",
     "output_type": "stream",
     "text": [
      "false\n",
      "true\n"
     ]
    }
   ],
   "source": [
    "Integer i1 = 128;\n",
    "Integer i2 = 128;\n",
    "\n",
    "print(i1 == i2);\n",
    "print(i1.equals(i2));"
   ]
  },
  {
   "cell_type": "code",
   "execution_count": 6,
   "metadata": {
    "collapsed": false
   },
   "outputs": [
    {
     "data": {
      "text/plain": [
       "true"
      ]
     },
     "execution_count": 6,
     "metadata": {},
     "output_type": "execute_result"
    }
   ],
   "source": [
    "final class Quiz {\n",
    "\n",
    "    // Provide a class body that makes it to print false.\n",
    "    // Do *not* override equals.\n",
    "    \n",
    "}\n",
    "\n",
    "Quiz q = new Quiz();\n",
    "q.equals(q);"
   ]
  },
  {
   "cell_type": "code",
   "execution_count": 7,
   "metadata": {
    "collapsed": true
   },
   "outputs": [],
   "source": [
    "class Car {\n",
    "\n",
    "    private final int serialNo;\n",
    "\n",
    "    Car(int serialNo) { this.serialNo = serialNo; }\n",
    "\n",
    "    @Override\n",
    "    public boolean equals(Object obj) {\n",
    "        if (obj == null) {\n",
    "            return false;\n",
    "        }\n",
    "        if (getClass() != obj.getClass()) {\n",
    "            return false;\n",
    "        }\n",
    "        final Car other = (Car) obj;\n",
    "        if (this.serialNo != other.serialNo) {\n",
    "            return false;\n",
    "        }\n",
    "        return true;\n",
    "    }\n",
    "\n",
    "}"
   ]
  },
  {
   "cell_type": "code",
   "execution_count": 8,
   "metadata": {
    "collapsed": false
   },
   "outputs": [
    {
     "name": "stdout",
     "output_type": "stream",
     "text": [
      "true\n",
      "false\n"
     ]
    }
   ],
   "source": [
    "print(new Car(11).equals(new Car(11)));\n",
    "print(new Car(11).equals(new Car(10)));"
   ]
  },
  {
   "cell_type": "code",
   "execution_count": null,
   "metadata": {
    "collapsed": true
   },
   "outputs": [],
   "source": []
  }
 ],
 "metadata": {
  "kernelspec": {
   "display_name": "Java",
   "language": "java",
   "name": "java"
  },
  "language_info": {
   "codemirror_mode": "java",
   "file_extension": ".java",
   "mimetype": "text/x-java-source",
   "name": "Java",
   "pygments_lexer": "java",
   "version": "9.0.4+11"
  }
 },
 "nbformat": 4,
 "nbformat_minor": 2
}
