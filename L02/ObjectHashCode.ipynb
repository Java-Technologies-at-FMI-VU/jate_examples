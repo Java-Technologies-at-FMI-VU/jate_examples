{
 "cells": [
  {
   "cell_type": "code",
   "execution_count": 1,
   "metadata": {
    "collapsed": false
   },
   "outputs": [
    {
     "data": {
      "text/plain": [
       "-2147483648"
      ]
     },
     "execution_count": 1,
     "metadata": {},
     "output_type": "execute_result"
    }
   ],
   "source": [
    "Integer.MIN_VALUE"
   ]
  },
  {
   "cell_type": "code",
   "execution_count": 2,
   "metadata": {
    "collapsed": false
   },
   "outputs": [
    {
     "data": {
      "text/plain": [
       "2147483647"
      ]
     },
     "execution_count": 2,
     "metadata": {},
     "output_type": "execute_result"
    }
   ],
   "source": [
    "Integer.MAX_VALUE"
   ]
  },
  {
   "cell_type": "code",
   "execution_count": 3,
   "metadata": {
    "collapsed": false
   },
   "outputs": [
    {
     "data": {
      "text/plain": [
       "4.294967295E9"
      ]
     },
     "execution_count": 3,
     "metadata": {},
     "output_type": "execute_result"
    }
   ],
   "source": [
    "Math.pow(2,32) - 1"
   ]
  },
  {
   "cell_type": "code",
   "execution_count": 4,
   "metadata": {
    "collapsed": true
   },
   "outputs": [],
   "source": [
    "class Car {\n",
    "\n",
    "    private final boolean b = true;\n",
    "    private final byte t = 100;\n",
    "    private final int i = 100;\n",
    "    private final long l = Long.MAX_VALUE;\n",
    "    private final String s = \"Some text\";\n",
    "    \n",
    "    @Override\n",
    "    public int hashCode() {\n",
    "        int res = 17;\n",
    "        res = 31 * res + (b ? 1 : 0);\n",
    "        res = 31 * res + (int) t;\n",
    "        res = 31 * res + i;\n",
    "        res = 31 * res + (int) (l ^ (l >>> 32));\n",
    "        res = 31 * res + s.hashCode();\n",
    "        return res;\n",
    "    }\n",
    "\n",
    "}"
   ]
  },
  {
   "cell_type": "code",
   "execution_count": 5,
   "metadata": {
    "collapsed": false
   },
   "outputs": [
    {
     "data": {
      "text/plain": [
       "-294928567"
      ]
     },
     "execution_count": 5,
     "metadata": {},
     "output_type": "execute_result"
    }
   ],
   "source": [
    "new Car().hashCode()"
   ]
  },
  {
   "cell_type": "code",
   "execution_count": 6,
   "metadata": {
    "collapsed": false
   },
   "outputs": [],
   "source": [
    "import java.util.*;\n",
    "\n",
    "public class Name {\n",
    "\n",
    "    private String first, last;\n",
    "\n",
    "    public Name(String first, String last) {\n",
    "        this.first = first;\n",
    "        this.last = last;\n",
    "    }\n",
    "\n",
    "    @Override\n",
    "    public boolean equals(Object o) {\n",
    "        if (!(o instanceof Name)) return false;\n",
    "        Name n = (Name)o;\n",
    "        return n.first.equals(first) && n.last.equals(last);\n",
    "    }\n",
    "\n",
    "}"
   ]
  },
  {
   "cell_type": "code",
   "execution_count": 7,
   "metadata": {
    "collapsed": false
   },
   "outputs": [
    {
     "name": "stdout",
     "output_type": "stream",
     "text": [
      "false\n"
     ]
    }
   ],
   "source": [
    "Set<Name> s = new HashSet<Name>();\n",
    "s.add(new Name(\"Mickey\", \"Mouse\"));\n",
    "System.out.println(s.contains(new Name(\"Mickey\", \"Mouse\")));"
   ]
  },
  {
   "cell_type": "code",
   "execution_count": 8,
   "metadata": {
    "collapsed": true
   },
   "outputs": [],
   "source": [
    "import java.util.*;\n",
    "\n",
    "public class Name {\n",
    "\n",
    "    private String first, last;\n",
    "\n",
    "    public Name(String first, String last) {\n",
    "        this.first = first; this.last = last;\n",
    "    }\n",
    "\n",
    "    public boolean equals(Name n) {\n",
    "        return n.first.equals(first) && n.last.equals(last);\n",
    "    }\n",
    "\n",
    "    public int hashCode() {\n",
    "        return 31 * first.hashCode() + last.hashCode(); \n",
    "    }\n",
    "}"
   ]
  },
  {
   "cell_type": "code",
   "execution_count": 9,
   "metadata": {
    "collapsed": false
   },
   "outputs": [
    {
     "name": "stdout",
     "output_type": "stream",
     "text": [
      "false\n"
     ]
    }
   ],
   "source": [
    "Set<Name> s = new HashSet<Name>();\n",
    "s.add(new Name(\"Donald\", \"Duck\"));\n",
    "System.out.println(s.contains(new Name(\"Donald\", \"Duck\")));"
   ]
  },
  {
   "cell_type": "code",
   "execution_count": null,
   "metadata": {
    "collapsed": true
   },
   "outputs": [],
   "source": []
  }
 ],
 "metadata": {
  "kernelspec": {
   "display_name": "Java",
   "language": "java",
   "name": "java"
  },
  "language_info": {
   "codemirror_mode": "java",
   "file_extension": ".java",
   "mimetype": "text/x-java-source",
   "name": "Java",
   "pygments_lexer": "java",
   "version": "9.0.4+11"
  }
 },
 "nbformat": 4,
 "nbformat_minor": 2
}
