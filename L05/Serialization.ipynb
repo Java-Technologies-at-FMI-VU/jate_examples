{
 "cells": [
  {
   "cell_type": "markdown",
   "metadata": {},
   "source": [
    "### Data streams\n",
    "Define interface to loose-couple utility"
   ]
  },
  {
   "cell_type": "code",
   "execution_count": 1,
   "metadata": {
    "collapsed": true
   },
   "outputs": [],
   "source": [
    "interface Writable {\n",
    "    \n",
    "    void write(DataOutputStream out) throws IOException;\n",
    "    void read(DataInputStream in) throws IOException;\n",
    "    \n",
    "}"
   ]
  },
  {
   "cell_type": "markdown",
   "metadata": {},
   "source": [
    "Utility methods"
   ]
  },
  {
   "cell_type": "code",
   "execution_count": 2,
   "metadata": {
    "collapsed": false
   },
   "outputs": [],
   "source": [
    "import java.lang.reflect.Array;\n",
    "import java.io.File;\n",
    "\n",
    "<W extends Writable> void write(File dataFile, W... objs) throws IOException {\n",
    "    try(DataOutputStream out = new DataOutputStream(new BufferedOutputStream(new FileOutputStream(dataFile)))) {\n",
    "        out.writeInt(objs.length);\n",
    "        for (W o: objs) {\n",
    "            o.write(out);\n",
    "        }\n",
    "    }\n",
    "}"
   ]
  },
  {
   "cell_type": "code",
   "execution_count": 3,
   "metadata": {
    "collapsed": true
   },
   "outputs": [],
   "source": [
    "<W extends Writable> W[] read(Class<W> clazz, File dataFile) throws IOException, InstantiationException, IllegalAccessException {\n",
    "    try(DataInputStream in = new DataInputStream(new BufferedInputStream(new FileInputStream(dataFile)))) {\n",
    "        int len = in.readInt();\n",
    "        W[] data = (W[]) Array.newInstance(clazz, len);\n",
    "        for (int i = 0; i < len; i++) {\n",
    "            data[i] = (W) clazz.newInstance();\n",
    "            data[i].read(in);\n",
    "        }\n",
    "        return data;\n",
    "    }\n",
    "}"
   ]
  },
  {
   "cell_type": "markdown",
   "metadata": {},
   "source": [
    "Example class"
   ]
  },
  {
   "cell_type": "code",
   "execution_count": 4,
   "metadata": {
    "collapsed": true
   },
   "outputs": [],
   "source": [
    "class Product implements Writable {\n",
    "    \n",
    "    private String name;\n",
    "    private double unitPrice;\n",
    "    private int stock;\n",
    "    \n",
    "    Product() {}\n",
    "\n",
    "    Product(String name, double unitPrice, int stock) {\n",
    "        this.name = name;\n",
    "        this.unitPrice = unitPrice;\n",
    "        this.stock = stock;\n",
    "    }\n",
    "\n",
    "    @Override\n",
    "    public void write(DataOutputStream out) throws IOException {\n",
    "        out.writeUTF(name);\n",
    "        out.writeDouble(unitPrice);\n",
    "        out.writeInt(stock);\n",
    "    }\n",
    "\n",
    "    @Override\n",
    "    public void read(DataInputStream in) throws IOException {\n",
    "        name = in.readUTF();\n",
    "        unitPrice = in.readDouble();\n",
    "        stock = in.readInt();\n",
    "    }\n",
    "    \n",
    "    public String toString() {\n",
    "        return String.format(\"Product{name=%s,unitPrice=%f,stock=%d}\", name, unitPrice, stock);\n",
    "    }\n",
    "\n",
    "}"
   ]
  },
  {
   "cell_type": "markdown",
   "metadata": {},
   "source": [
    "Create a few objects"
   ]
  },
  {
   "cell_type": "code",
   "execution_count": 5,
   "metadata": {
    "collapsed": true
   },
   "outputs": [],
   "source": [
    "Product[] store = new Product[] {\n",
    "    new Product(\"Pienas\", 1.20, 1000),\n",
    "    new Product(\"Sviestas\", 1.75, 1000)\n",
    "};"
   ]
  },
  {
   "cell_type": "code",
   "execution_count": 6,
   "metadata": {
    "collapsed": false
   },
   "outputs": [
    {
     "name": "stdout",
     "output_type": "stream",
     "text": [
      "Product{name=Pienas,unitPrice=1.200000,stock=1000}\n",
      "Product{name=Sviestas,unitPrice=1.750000,stock=1000}\n"
     ]
    }
   ],
   "source": [
    "for (Product p: store) System.out.println(p);"
   ]
  },
  {
   "cell_type": "markdown",
   "metadata": {},
   "source": [
    "Write \"store\" to file"
   ]
  },
  {
   "cell_type": "code",
   "execution_count": 7,
   "metadata": {
    "collapsed": true
   },
   "outputs": [],
   "source": [
    "File f = new File(\"store.dat\");\n",
    "write(f, store);"
   ]
  },
  {
   "cell_type": "markdown",
   "metadata": {},
   "source": [
    "Reading objects from file"
   ]
  },
  {
   "cell_type": "code",
   "execution_count": 8,
   "metadata": {
    "collapsed": false
   },
   "outputs": [],
   "source": [
    "Product[] store1 = read(Product.class, f);"
   ]
  },
  {
   "cell_type": "code",
   "execution_count": 9,
   "metadata": {
    "collapsed": false
   },
   "outputs": [
    {
     "name": "stdout",
     "output_type": "stream",
     "text": [
      "Product{name=Pienas,unitPrice=1.200000,stock=1000}\n",
      "Product{name=Sviestas,unitPrice=1.750000,stock=1000}\n"
     ]
    }
   ],
   "source": [
    "for (Product p: store1) System.out.println(p);"
   ]
  },
  {
   "cell_type": "markdown",
   "metadata": {},
   "source": [
    "### Object streams"
   ]
  },
  {
   "cell_type": "markdown",
   "metadata": {},
   "source": [
    "To/from streams"
   ]
  },
  {
   "cell_type": "code",
   "execution_count": 10,
   "metadata": {
    "collapsed": true
   },
   "outputs": [],
   "source": [
    "@SuppressWarnings(\"unchecked\")\n",
    "<T> T read(InputStream in) throws IOException, ClassNotFoundException {\n",
    "    try (ObjectInputStream oos = new ObjectInputStream(in)) {\n",
    "        return (T) oos.readObject();\n",
    "    }\n",
    "}\n",
    "\n",
    "<T> void write(OutputStream os, T o) throws IOException {\n",
    "    try (ObjectOutputStream oos = new ObjectOutputStream(os)) {\n",
    "        oos.writeObject(o);\n",
    "    }\n",
    "}"
   ]
  },
  {
   "cell_type": "markdown",
   "metadata": {},
   "source": [
    "To/from bytes"
   ]
  },
  {
   "cell_type": "code",
   "execution_count": 11,
   "metadata": {
    "collapsed": true
   },
   "outputs": [],
   "source": [
    "<T> T readFromBytes(byte[] data) throws IOException, ClassNotFoundException {\n",
    "    try (ByteArrayInputStream bin = new ByteArrayInputStream(data)) {\n",
    "        return (T) read(bin);\n",
    "    }\n",
    "}\n",
    "\n",
    "<T> byte[] writeToBytes(T o) throws IOException {\n",
    "    try (ByteArrayOutputStream bos = new ByteArrayOutputStream()) {\n",
    "        write(bos, o);\n",
    "        return bos.toByteArray();\n",
    "    }\n",
    "}"
   ]
  },
  {
   "cell_type": "markdown",
   "metadata": {},
   "source": [
    "To/from files"
   ]
  },
  {
   "cell_type": "code",
   "execution_count": 12,
   "metadata": {
    "collapsed": true
   },
   "outputs": [],
   "source": [
    "<T> void writeToFile(String fileName, T o) throws IOException {\n",
    "    try (FileOutputStream fos = new FileOutputStream(fileName)) {\n",
    "        write(fos, o);\n",
    "    }\n",
    "}\n",
    "\n",
    "<T> T readFromFile(String fileName) throws IOException, ClassNotFoundException {\n",
    "    try (FileInputStream fin = new FileInputStream(fileName)) {\n",
    "        return (T) read(fin);\n",
    "    }\n",
    "}"
   ]
  },
  {
   "cell_type": "markdown",
   "metadata": {},
   "source": [
    "Define some classes"
   ]
  },
  {
   "cell_type": "code",
   "execution_count": 13,
   "metadata": {
    "collapsed": true
   },
   "outputs": [],
   "source": [
    "enum Color {\n",
    "    RED,\n",
    "    BLUE,\n",
    "    GREEN,\n",
    "    BEIGE,\n",
    "    WHITE\n",
    "}\n",
    "\n",
    "enum Fuel {\n",
    "    PETROL,\n",
    "    DIESEL,\n",
    "    ELECTRICITY\n",
    "}"
   ]
  },
  {
   "cell_type": "code",
   "execution_count": 14,
   "metadata": {
    "collapsed": true
   },
   "outputs": [],
   "source": [
    "class Engine {\n",
    "\n",
    "    //private static final long serialVersionUID = 1L;\n",
    "\n",
    "    private Fuel fuel;\n",
    "    private float volume;\n",
    "\n",
    "    public Engine(Fuel fuel, float volume) {\n",
    "        this.fuel = fuel;\n",
    "        this.volume = volume;\n",
    "    }\n",
    "\n",
    "    @Override\n",
    "    public String toString() {\n",
    "        return \"Engine{\" + \"fuel=\" + fuel + \", volume=\" + volume + '}';\n",
    "    }\n",
    "\n",
    "}"
   ]
  },
  {
   "cell_type": "code",
   "execution_count": 15,
   "metadata": {
    "collapsed": true
   },
   "outputs": [],
   "source": [
    "class Car implements Serializable {\n",
    "\n",
    "    private static final long serialVersionUID = 2018L;\n",
    "\n",
    "    private String name;\n",
    "    private int year;\n",
    "    private Color color;\n",
    "    private transient Engine engine;\n",
    "\n",
    "    public void setName(String name) {\n",
    "        this.name = name;\n",
    "    }\n",
    "\n",
    "    public void setYear(int year) {\n",
    "        this.year = year;\n",
    "    }\n",
    "\n",
    "    public void setColor(Color color) {\n",
    "        this.color = color;\n",
    "    }\n",
    "\n",
    "    public void setEngine(Engine engine) {\n",
    "        this.engine = engine;\n",
    "    }\n",
    "\n",
    "    @Override\n",
    "    public String toString() {\n",
    "        return \"Car{\" + \"name=\" + name + \", year=\" + year + \", color=\" + color + \", engine=\" + engine + '}';\n",
    "    }\n",
    "\n",
    "}"
   ]
  },
  {
   "cell_type": "markdown",
   "metadata": {},
   "source": [
    "Set some data"
   ]
  },
  {
   "cell_type": "code",
   "execution_count": 16,
   "metadata": {
    "collapsed": false
   },
   "outputs": [],
   "source": [
    "Car c = new Car();\n",
    "c.setName(\"Fiat\");\n",
    "c.setYear(1998);\n",
    "c.setColor(Color.BLUE);\n",
    "c.setEngine(new Engine(Fuel.PETROL, 1.3f));"
   ]
  },
  {
   "cell_type": "code",
   "execution_count": 17,
   "metadata": {
    "collapsed": false
   },
   "outputs": [
    {
     "data": {
      "text/plain": [
       "Car{name=Fiat, year=1998, color=BLUE, engine=Engine{fuel=PETROL, volume=1.3}}"
      ]
     },
     "execution_count": 17,
     "metadata": {},
     "output_type": "execute_result"
    }
   ],
   "source": [
    "c"
   ]
  },
  {
   "cell_type": "code",
   "execution_count": 18,
   "metadata": {
    "collapsed": false
   },
   "outputs": [],
   "source": [
    "import java.lang.reflect.Field;\n",
    "Field idf = Car.class.getDeclaredField(\"serialVersionUID\");\n",
    "idf.setAccessible(true);"
   ]
  },
  {
   "cell_type": "code",
   "execution_count": 19,
   "metadata": {
    "collapsed": false
   },
   "outputs": [
    {
     "data": {
      "text/plain": [
       "2018"
      ]
     },
     "execution_count": 19,
     "metadata": {},
     "output_type": "execute_result"
    }
   ],
   "source": [
    "idf.get(c.getClass());"
   ]
  },
  {
   "cell_type": "code",
   "execution_count": 20,
   "metadata": {
    "collapsed": false
   },
   "outputs": [],
   "source": [
    "writeToFile(\"out.dat\",c)"
   ]
  },
  {
   "cell_type": "code",
   "execution_count": 21,
   "metadata": {
    "collapsed": false
   },
   "outputs": [],
   "source": [
    "Car c1 = (Car) readFromFile(\"out.dat\")"
   ]
  },
  {
   "cell_type": "code",
   "execution_count": 22,
   "metadata": {
    "collapsed": false
   },
   "outputs": [
    {
     "data": {
      "text/plain": [
       "Car{name=Fiat, year=1998, color=BLUE, engine=null}"
      ]
     },
     "execution_count": 22,
     "metadata": {},
     "output_type": "execute_result"
    }
   ],
   "source": [
    "c1 "
   ]
  },
  {
   "cell_type": "code",
   "execution_count": null,
   "metadata": {
    "collapsed": true
   },
   "outputs": [],
   "source": []
  }
 ],
 "metadata": {
  "kernelspec": {
   "display_name": "Java",
   "language": "java",
   "name": "java"
  },
  "language_info": {
   "codemirror_mode": "java",
   "file_extension": ".java",
   "mimetype": "text/x-java-source",
   "name": "Java",
   "pygments_lexer": "java",
   "version": "9.0.4+11"
  }
 },
 "nbformat": 4,
 "nbformat_minor": 2
}
