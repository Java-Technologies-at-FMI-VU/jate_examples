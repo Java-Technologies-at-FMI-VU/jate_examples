{
 "cells": [
  {
   "cell_type": "code",
   "execution_count": 1,
   "metadata": {
    "collapsed": true
   },
   "outputs": [],
   "source": [
    "void printSuperClass(Class<?> clazz) {\n",
    "    if (clazz != null) {\n",
    "        System.out.println(clazz);\n",
    "        printSuperClass(clazz.getSuperclass());\n",
    "    }\n",
    "}"
   ]
  },
  {
   "cell_type": "markdown",
   "metadata": {},
   "source": [
    "### Byte stream"
   ]
  },
  {
   "cell_type": "markdown",
   "metadata": {},
   "source": [
    "Reading file byte-by-byte"
   ]
  },
  {
   "cell_type": "code",
   "execution_count": 2,
   "metadata": {
    "collapsed": false
   },
   "outputs": [
    {
     "name": "stdout",
     "output_type": "stream",
     "text": [
      "-59-961051091169711532122117105107105-59-773211511711510511410511010711144107810111632-59-66971081059732103105114101108-60-10532108105110107111461080971079710898-60-105106-60-10344321129711510511697114-60-10344107410510132109111107121107108-60-123329711610510097114-60-10546\n"
     ]
    }
   ],
   "source": [
    "StringBuilder sb = new StringBuilder();\n",
    "try (InputStream in = new FileInputStream(\"school.txt\")) {\n",
    "\n",
    "    // 8 bits\n",
    "    byte c;\n",
    "    while ((c = (byte) in.read()) != -1) {\n",
    "        sb.append(c);\n",
    "        //sb.append((char) c);\n",
    "    }\n",
    "\n",
    "} catch (IOException ex) {\n",
    "    System.err.format(\"Error: %s!%n\", ex.getMessage());\n",
    "}\n",
    "System.out.println(sb);"
   ]
  },
  {
   "cell_type": "code",
   "execution_count": 3,
   "metadata": {
    "collapsed": false
   },
   "outputs": [
    {
     "name": "stdout",
     "output_type": "stream",
     "text": [
      "in hierarchy:\n",
      "class java.io.FileInputStream\n",
      "class java.io.InputStream\n",
      "class java.lang.Object\n",
      "out hierarchy:\n",
      "class java.io.FileOutputStream\n",
      "class java.io.OutputStream\n",
      "class java.lang.Object\n"
     ]
    }
   ],
   "source": [
    "try (InputStream in = new FileInputStream(\"school.txt\")) {\n",
    "    try (OutputStream out = new FileOutputStream(\"out.txt\")) {\n",
    "\n",
    "        System.out.println(\"in hierarchy:\");\n",
    "        printSuperClass(in.getClass());\n",
    "\n",
    "        System.out.println(\"out hierarchy:\");\n",
    "        printSuperClass(out.getClass());\n",
    "\n",
    "        byte c;\n",
    "        while ((c = (byte) in.read()) != -1) {\n",
    "            out.write(c);\n",
    "        }\n",
    "\n",
    "    }\n",
    "} catch (IOException ex) {\n",
    "    System.err.format(\"Error: %s!%n\", ex.getMessage());\n",
    "}"
   ]
  },
  {
   "cell_type": "markdown",
   "metadata": {},
   "source": [
    "### Character stream"
   ]
  },
  {
   "cell_type": "code",
   "execution_count": 4,
   "metadata": {
    "collapsed": false
   },
   "outputs": [
    {
     "name": "stdout",
     "output_type": "stream",
     "text": [
      "Šimtas zuikių susirinko,\n",
      "Net žalia girelė linko.\n",
      "Pakalbėję, pasitarę,\n",
      "Jie mokyklą atidarė.\n"
     ]
    }
   ],
   "source": [
    "StringBuilder sb = new StringBuilder();\n",
    "try (Reader in = new FileReader(\"school.txt\")) {\n",
    "\n",
    "    //byte c;\n",
    "    int c;\n",
    "    while ((c = in.read()) != -1) {\n",
    "        sb.append((char) c);\n",
    "    }\n",
    "\n",
    "} catch (IOException ex) {\n",
    "    System.err.format(\"Error: %s!%n\", ex.getMessage());\n",
    "}\n",
    "System.out.println(sb);"
   ]
  },
  {
   "cell_type": "code",
   "execution_count": 5,
   "metadata": {
    "collapsed": false
   },
   "outputs": [
    {
     "name": "stdout",
     "output_type": "stream",
     "text": [
      "in hierarchy:\n",
      "class java.io.FileReader\n",
      "class java.io.InputStreamReader\n",
      "class java.io.Reader\n",
      "class java.lang.Object\n",
      "out hierarchy:\n",
      "class java.io.FileWriter\n",
      "class java.io.OutputStreamWriter\n",
      "class java.io.Writer\n",
      "class java.lang.Object\n"
     ]
    }
   ],
   "source": [
    "try (Reader in = new FileReader(\"school.txt\")) {\n",
    "    try (Writer out = new FileWriter(\"out.txt\")) {\n",
    "\n",
    "        System.out.println(\"in hierarchy:\");\n",
    "        printSuperClass(in.getClass());\n",
    "\n",
    "        System.out.println(\"out hierarchy:\");\n",
    "        printSuperClass(out.getClass());\n",
    "\n",
    "        int c;\n",
    "        while ((c = in.read()) != -1) {\n",
    "            out.write(c);\n",
    "        }\n",
    "\n",
    "    }\n",
    "} catch (IOException ex) {\n",
    "    System.err.format(\"Error: %s!%n\", ex.getMessage());\n",
    "}"
   ]
  },
  {
   "cell_type": "markdown",
   "metadata": {},
   "source": [
    "### Buffered stream"
   ]
  },
  {
   "cell_type": "code",
   "execution_count": 6,
   "metadata": {
    "collapsed": false
   },
   "outputs": [
    {
     "name": "stdout",
     "output_type": "stream",
     "text": [
      "Šimtas zuikių susirinko,\n",
      "Net žalia girelė linko.\n",
      "Pakalbėję, pasitarę,\n",
      "Jie mokyklą atidarė.\n"
     ]
    }
   ],
   "source": [
    "// Read file - output to out\n",
    "try (BufferedReader in = new BufferedReader(new FileReader(\"school.txt\"))) {\n",
    "\n",
    "    String line;\n",
    "    while ((line = in.readLine()) != null) {  \n",
    "        System.out.println(line);\n",
    "    }\n",
    "\n",
    "} catch (IOException ex) {\n",
    "    System.err.format(\"Error: %s!%n\", ex.getMessage());\n",
    "}"
   ]
  },
  {
   "cell_type": "code",
   "execution_count": 7,
   "metadata": {
    "collapsed": false
   },
   "outputs": [
    {
     "name": "stdout",
     "output_type": "stream",
     "text": [
      "in hierarchy:\n",
      "class java.io.BufferedReader\n",
      "class java.io.Reader\n",
      "class java.lang.Object\n",
      "out hierarchy:\n",
      "class java.io.BufferedWriter\n",
      "class java.io.Writer\n",
      "class java.lang.Object\n"
     ]
    }
   ],
   "source": [
    "// Read file - output to file\n",
    "try (BufferedReader in = new BufferedReader(new FileReader(\"school.txt\"))) {\n",
    "    try (BufferedWriter out = new BufferedWriter(new FileWriter(\"out.txt\"))) { \n",
    "\n",
    "        System.out.println(\"in hierarchy:\");\n",
    "        printSuperClass(in.getClass());\n",
    "\n",
    "        System.out.println(\"out hierarchy:\");\n",
    "        printSuperClass(out.getClass());\n",
    "\n",
    "        String line;\n",
    "        while ((line = in.readLine()) != null) {  \n",
    "            out.append(line);\n",
    "            out.newLine();\n",
    "        }\n",
    "\n",
    "    }\n",
    "} catch (IOException ex) {\n",
    "    System.err.format(\"Error: %s!%n\", ex.getMessage());\n",
    "}"
   ]
  },
  {
   "cell_type": "markdown",
   "metadata": {},
   "source": [
    "### Scanner"
   ]
  },
  {
   "cell_type": "code",
   "execution_count": 8,
   "metadata": {
    "collapsed": false
   },
   "outputs": [
    {
     "name": "stdout",
     "output_type": "stream",
     "text": [
      "Šimtas\n",
      "zuikių\n",
      "susirinko,\n",
      "Net\n",
      "žalia\n",
      "girelė\n",
      "linko.\n",
      "Pakalbėję,\n",
      "pasitarę,\n",
      "Jie\n",
      "mokyklą\n",
      "atidarė.\n"
     ]
    }
   ],
   "source": [
    "try (Scanner scan = new Scanner(new BufferedReader(new FileReader(\"school.txt\")))) {\n",
    "    //scan.useDelimiter(\"[ ,\\\\.]\");\n",
    "\n",
    "    while (scan.hasNext()) {  \n",
    "        System.out.println(scan.next());\n",
    "    }\n",
    "\n",
    "} catch (IOException ex) {\n",
    "    System.err.format(\"Error: %s!%n\", ex.getMessage());\n",
    "}"
   ]
  },
  {
   "cell_type": "markdown",
   "metadata": {},
   "source": [
    "### Piped streams"
   ]
  },
  {
   "cell_type": "code",
   "execution_count": 9,
   "metadata": {
    "collapsed": true
   },
   "outputs": [],
   "source": [
    "PipedOutputStream out = new PipedOutputStream();\n",
    "PipedInputStream in = new PipedInputStream(out);"
   ]
  },
  {
   "cell_type": "code",
   "execution_count": null,
   "metadata": {
    "collapsed": true
   },
   "outputs": [],
   "source": []
  }
 ],
 "metadata": {
  "kernelspec": {
   "display_name": "Java",
   "language": "java",
   "name": "java"
  },
  "language_info": {
   "codemirror_mode": "java",
   "file_extension": ".java",
   "mimetype": "text/x-java-source",
   "name": "Java",
   "pygments_lexer": "java",
   "version": "9.0.4+11"
  }
 },
 "nbformat": 4,
 "nbformat_minor": 2
}
