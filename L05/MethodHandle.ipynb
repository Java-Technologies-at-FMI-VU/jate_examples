{
 "cells": [
  {
   "cell_type": "code",
   "execution_count": 1,
   "metadata": {
    "collapsed": true
   },
   "outputs": [],
   "source": [
    "import java.lang.invoke.MethodHandle;\n",
    "import java.lang.invoke.MethodHandles;\n",
    "import java.lang.invoke.MethodType;"
   ]
  },
  {
   "cell_type": "code",
   "execution_count": 2,
   "metadata": {
    "collapsed": true
   },
   "outputs": [],
   "source": [
    "class Point {\n",
    "\n",
    "    int x;\n",
    "    int y;\n",
    "\n",
    "}"
   ]
  },
  {
   "cell_type": "code",
   "execution_count": 3,
   "metadata": {
    "collapsed": true
   },
   "outputs": [],
   "source": [
    "MethodHandles.Lookup lookup = MethodHandles.lookup();\n",
    "Point point = new Point();"
   ]
  },
  {
   "cell_type": "code",
   "execution_count": 4,
   "metadata": {
    "collapsed": false
   },
   "outputs": [
    {
     "data": {
      "text/plain": [
       "null"
      ]
     },
     "execution_count": 4,
     "metadata": {},
     "output_type": "execute_result"
    }
   ],
   "source": [
    "MethodHandle setX = lookup.findSetter(Point.class, \"x\", int.class);\n",
    "MethodHandle setY = lookup.findSetter(Point.class, \"y\", int.class);\n",
    "\n",
    "setX.invoke(point, 15);\n",
    "setY.invoke(point, 10);"
   ]
  },
  {
   "cell_type": "code",
   "execution_count": 5,
   "metadata": {
    "collapsed": false
   },
   "outputs": [
    {
     "name": "stdout",
     "output_type": "stream",
     "text": [
      "x = 15\n"
     ]
    }
   ],
   "source": [
    "MethodHandle getX = lookup.findGetter(Point.class, \"x\", int.class);\n",
    "int x = (int) getX.invoke(point);\n",
    "printf(\"x = %d%n\", x);"
   ]
  },
  {
   "cell_type": "code",
   "execution_count": 6,
   "metadata": {
    "collapsed": false
   },
   "outputs": [
    {
     "name": "stdout",
     "output_type": "stream",
     "text": [
      "y = 10\n"
     ]
    }
   ],
   "source": [
    "MethodHandle getY = lookup.findGetter(Point.class, \"y\", int.class);\n",
    "int y = (int) getY.invoke(point);\n",
    "printf(\"y = %d%n\", y);"
   ]
  },
  {
   "cell_type": "code",
   "execution_count": 7,
   "metadata": {
    "collapsed": true
   },
   "outputs": [],
   "source": [
    "MethodType mt = MethodType.methodType(int.class, int.class, int.class);\n",
    "MethodHandle addExact = lookup.findStatic(Math.class, \"addExact\", mt);"
   ]
  },
  {
   "cell_type": "code",
   "execution_count": 8,
   "metadata": {
    "collapsed": false
   },
   "outputs": [
    {
     "name": "stdout",
     "output_type": "stream",
     "text": [
      "s = 25\n"
     ]
    }
   ],
   "source": [
    "int s = (int) addExact.invoke(x, y);\n",
    "printf(\"s = %d%n\", s);"
   ]
  },
  {
   "cell_type": "code",
   "execution_count": null,
   "metadata": {
    "collapsed": true
   },
   "outputs": [],
   "source": []
  }
 ],
 "metadata": {
  "kernelspec": {
   "display_name": "Java",
   "language": "java",
   "name": "java"
  },
  "language_info": {
   "codemirror_mode": "java",
   "file_extension": ".java",
   "mimetype": "text/x-java-source",
   "name": "Java",
   "pygments_lexer": "java",
   "version": "9.0.4+11"
  }
 },
 "nbformat": 4,
 "nbformat_minor": 0
}
