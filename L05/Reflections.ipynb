{
 "cells": [
  {
   "cell_type": "code",
   "execution_count": 1,
   "metadata": {
    "collapsed": true
   },
   "outputs": [],
   "source": [
    "import java.lang.annotation.Annotation;\n",
    "import java.lang.reflect.Constructor;\n",
    "import java.lang.reflect.Field;\n",
    "import java.lang.reflect.Method;\n",
    "import java.lang.reflect.Modifier;\n",
    "import java.lang.reflect.Type;\n",
    "import java.lang.reflect.TypeVariable;"
   ]
  },
  {
   "cell_type": "code",
   "execution_count": 2,
   "metadata": {
    "collapsed": false
   },
   "outputs": [],
   "source": [
    "void examineMethods(Method[] ms) {\n",
    "    for (Method m: ms) {\n",
    "        printf(\" - method: %s(\", m.getName());\n",
    "        boolean first = true;\n",
    "        for (Type t: m.getParameterTypes()) {\n",
    "            printf(\"%s%s\", first ? \"\" : \", \", t.getTypeName());\n",
    "            first = false;\n",
    "        }\n",
    "        printf(\")%n\");\n",
    "    }\n",
    "}"
   ]
  },
  {
   "cell_type": "code",
   "execution_count": 3,
   "metadata": {
    "collapsed": true
   },
   "outputs": [],
   "source": [
    "void examineConstructors(Constructor[] cs) {\n",
    "    for (Constructor c: cs) {\n",
    "        printf(\" - constructor: %s(\", c.getName());\n",
    "        boolean first = true;\n",
    "        for (Type t: c.getParameterTypes()) {\n",
    "            printf(\"%s%s\", first ? \"\" : \", \", t.getTypeName());\n",
    "            first = false;\n",
    "        }\n",
    "        printf(\")%n\");\n",
    "    }\n",
    "}"
   ]
  },
  {
   "cell_type": "code",
   "execution_count": 4,
   "metadata": {
    "collapsed": true
   },
   "outputs": [],
   "source": [
    "void examine(Class<?> ref) {\n",
    "    printf(\"Class: %s%n\", ref);\n",
    "    printf(\" - superclass: %s%n\", ref.getSuperclass());\n",
    "    for (Class<?> c: ref.getClasses()) {\n",
    "        printf(\" - classes: %s%n\", c); \n",
    "    }\n",
    "    for (Class<?> c: ref.getDeclaredClasses()) {\n",
    "        System.out.format(\" - declaredClasses: %s%n\", c);\n",
    "    }\n",
    "    System.out.format(\" - declaringClass: %s%n\", ref.getDeclaringClass());\n",
    "    System.out.format(\" - enclosingClass: %s%n\", ref.getEnclosingClass());\n",
    "\n",
    "    System.out.format(\" - modifiers: %d%n\", ref.getModifiers());\n",
    "    System.out.format(\" - is abstract: %s%n\", Modifier.isAbstract(ref.getModifiers()));\n",
    "    System.out.format(\" - is final: %s%n\", Modifier.isFinal(ref.getModifiers()));\n",
    "    System.out.format(\" - is public: %s%n\", Modifier.isPublic(ref.getModifiers()));\n",
    "    System.out.format(\" - is static: %s%n\", Modifier.isStatic(ref.getModifiers()));\n",
    "\n",
    "    for (TypeVariable tv: ref.getTypeParameters()) {\n",
    "        System.out.format(\" - type variable: %s%n\", tv.getName());\n",
    "    }\n",
    "\n",
    "    for (Type t: ref.getGenericInterfaces()) {\n",
    "        System.out.format(\" - generic interface: %s%n\", t.getTypeName());\n",
    "    }\n",
    "\n",
    "    for (Annotation a: ref.getAnnotations()) {\n",
    "        System.out.format(\" - annotation: %s%n\", a.toString());\n",
    "    }\n",
    "\n",
    "    for (Field f: ref.getFields()) {\n",
    "        System.out.format(\" - field: %s %s%n\", f.getType(), f.getName());\n",
    "    }\n",
    "\n",
    "    for (Field f: ref.getDeclaredFields()) {\n",
    "        System.out.format(\" - declared field: %s %s%n\", f.getType(), f.getName());\n",
    "    }\n",
    "\n",
    "    examineMethods(ref.getMethods());\n",
    "    examineMethods(ref.getDeclaredMethods());\n",
    "    examineConstructors(ref.getConstructors());\n",
    "    examineConstructors(ref.getDeclaredConstructors());\n",
    "\n",
    "}"
   ]
  },
  {
   "cell_type": "code",
   "execution_count": 5,
   "metadata": {
    "collapsed": false
   },
   "outputs": [
    {
     "name": "stdout",
     "output_type": "stream",
     "text": [
      "Class: class java.lang.String\n",
      " - superclass: class java.lang.Object\n",
      " - declaredClasses: class java.lang.String$CaseInsensitiveComparator\n",
      " - declaringClass: null\n",
      " - enclosingClass: null\n",
      " - modifiers: 17\n",
      " - is abstract: false\n",
      " - is final: true\n",
      " - is public: true\n",
      " - is static: false\n",
      " - generic interface: java.io.Serializable\n",
      " - generic interface: java.lang.Comparable<java.lang.String>\n",
      " - generic interface: java.lang.CharSequence\n",
      " - field: interface java.util.Comparator CASE_INSENSITIVE_ORDER\n",
      " - declared field: class [B value\n",
      " - declared field: byte coder\n",
      " - declared field: int hash\n",
      " - declared field: long serialVersionUID\n",
      " - declared field: boolean COMPACT_STRINGS\n",
      " - declared field: class [Ljava.io.ObjectStreamField; serialPersistentFields\n",
      " - declared field: interface java.util.Comparator CASE_INSENSITIVE_ORDER\n",
      " - declared field: byte LATIN1\n",
      " - declared field: byte UTF16\n",
      " - method: equals(java.lang.Object)\n",
      " - method: length()\n",
      " - method: toString()\n",
      " - method: hashCode()\n",
      " - method: getChars(int, int, char[], int)\n",
      " - method: compareTo(java.lang.Object)\n",
      " - method: compareTo(java.lang.String)\n",
      " - method: indexOf(int)\n",
      " - method: indexOf(java.lang.String)\n",
      " - method: indexOf(java.lang.String, int)\n",
      " - method: indexOf(int, int)\n",
      " - method: valueOf(int)\n",
      " - method: valueOf(char)\n",
      " - method: valueOf(boolean)\n",
      " - method: valueOf(float)\n",
      " - method: valueOf(double)\n",
      " - method: valueOf(java.lang.Object)\n",
      " - method: valueOf(long)\n",
      " - method: valueOf(char[])\n",
      " - method: valueOf(char[], int, int)\n",
      " - method: codePoints()\n",
      " - method: isEmpty()\n",
      " - method: charAt(int)\n",
      " - method: codePointAt(int)\n",
      " - method: codePointBefore(int)\n",
      " - method: codePointCount(int, int)\n",
      " - method: offsetByCodePoints(int, int)\n",
      " - method: getBytes(java.nio.charset.Charset)\n",
      " - method: getBytes()\n",
      " - method: getBytes(java.lang.String)\n",
      " - method: getBytes(int, int, byte[], int)\n",
      " - method: contentEquals(java.lang.CharSequence)\n",
      " - method: contentEquals(java.lang.StringBuffer)\n",
      " - method: equalsIgnoreCase(java.lang.String)\n",
      " - method: compareToIgnoreCase(java.lang.String)\n",
      " - method: regionMatches(int, java.lang.String, int, int)\n",
      " - method: regionMatches(boolean, int, java.lang.String, int, int)\n",
      " - method: startsWith(java.lang.String)\n",
      " - method: startsWith(java.lang.String, int)\n",
      " - method: endsWith(java.lang.String)\n",
      " - method: lastIndexOf(java.lang.String, int)\n",
      " - method: lastIndexOf(java.lang.String)\n",
      " - method: lastIndexOf(int, int)\n",
      " - method: lastIndexOf(int)\n",
      " - method: substring(int, int)\n",
      " - method: substring(int)\n",
      " - method: subSequence(int, int)\n",
      " - method: concat(java.lang.String)\n",
      " - method: replace(java.lang.CharSequence, java.lang.CharSequence)\n",
      " - method: replace(char, char)\n",
      " - method: matches(java.lang.String)\n",
      " - method: contains(java.lang.CharSequence)\n",
      " - method: replaceFirst(java.lang.String, java.lang.String)\n",
      " - method: replaceAll(java.lang.String, java.lang.String)\n",
      " - method: split(java.lang.String)\n",
      " - method: split(java.lang.String, int)\n",
      " - method: join(java.lang.CharSequence, java.lang.CharSequence[])\n",
      " - method: join(java.lang.CharSequence, java.lang.Iterable)\n",
      " - method: toLowerCase(java.util.Locale)\n",
      " - method: toLowerCase()\n",
      " - method: toUpperCase(java.util.Locale)\n",
      " - method: toUpperCase()\n",
      " - method: trim()\n",
      " - method: chars()\n",
      " - method: toCharArray()\n",
      " - method: format(java.util.Locale, java.lang.String, java.lang.Object[])\n",
      " - method: format(java.lang.String, java.lang.Object[])\n",
      " - method: copyValueOf(char[])\n",
      " - method: copyValueOf(char[], int, int)\n",
      " - method: intern()\n",
      " - method: wait(long, int)\n",
      " - method: wait()\n",
      " - method: wait(long)\n",
      " - method: getClass()\n",
      " - method: notify()\n",
      " - method: notifyAll()\n",
      " - method: coder()\n",
      " - method: equals(java.lang.Object)\n",
      " - method: length()\n",
      " - method: toString()\n",
      " - method: hashCode()\n",
      " - method: getChars(int, int, char[], int)\n",
      " - method: compareTo(java.lang.Object)\n",
      " - method: compareTo(java.lang.String)\n",
      " - method: indexOf(int)\n",
      " - method: indexOf(byte[], byte, int, java.lang.String, int)\n",
      " - method: indexOf(java.lang.String)\n",
      " - method: indexOf(java.lang.String, int)\n",
      " - method: indexOf(int, int)\n",
      " - method: checkIndex(int, int)\n",
      " - method: valueOf(int)\n",
      " - method: valueOf(char)\n",
      " - method: valueOf(boolean)\n",
      " - method: valueOf(float)\n",
      " - method: valueOf(double)\n",
      " - method: valueOf(java.lang.Object)\n",
      " - method: valueOf(long)\n",
      " - method: valueOf(char[])\n",
      " - method: valueOf(char[], int, int)\n",
      " - method: rangeCheck(char[], int, int)\n",
      " - method: codePoints()\n",
      " - method: isEmpty()\n",
      " - method: charAt(int)\n",
      " - method: codePointAt(int)\n",
      " - method: codePointBefore(int)\n",
      " - method: codePointCount(int, int)\n",
      " - method: offsetByCodePoints(int, int)\n",
      " - method: getBytes(java.nio.charset.Charset)\n",
      " - method: getBytes(byte[], int, byte)\n",
      " - method: getBytes()\n",
      " - method: getBytes(java.lang.String)\n",
      " - method: getBytes(int, int, byte[], int)\n",
      " - method: contentEquals(java.lang.CharSequence)\n",
      " - method: contentEquals(java.lang.StringBuffer)\n",
      " - method: nonSyncContentEquals(java.lang.AbstractStringBuilder)\n",
      " - method: equalsIgnoreCase(java.lang.String)\n",
      " - method: compareToIgnoreCase(java.lang.String)\n",
      " - method: regionMatches(int, java.lang.String, int, int)\n",
      " - method: regionMatches(boolean, int, java.lang.String, int, int)\n",
      " - method: startsWith(java.lang.String)\n",
      " - method: startsWith(java.lang.String, int)\n",
      " - method: endsWith(java.lang.String)\n",
      " - method: lastIndexOf(java.lang.String, int)\n",
      " - method: lastIndexOf(java.lang.String)\n",
      " - method: lastIndexOf(int, int)\n",
      " - method: lastIndexOf(int)\n",
      " - method: lastIndexOf(byte[], byte, int, java.lang.String, int)\n",
      " - method: substring(int, int)\n",
      " - method: substring(int)\n",
      " - method: subSequence(int, int)\n",
      " - method: concat(java.lang.String)\n",
      " - method: replace(java.lang.CharSequence, java.lang.CharSequence)\n",
      " - method: replace(char, char)\n",
      " - method: matches(java.lang.String)\n",
      " - method: contains(java.lang.CharSequence)\n",
      " - method: replaceFirst(java.lang.String, java.lang.String)\n",
      " - method: replaceAll(java.lang.String, java.lang.String)\n",
      " - method: split(java.lang.String)\n",
      " - method: split(java.lang.String, int)\n",
      " - method: join(java.lang.CharSequence, java.lang.CharSequence[])\n",
      " - method: join(java.lang.CharSequence, java.lang.Iterable)\n",
      " - method: toLowerCase(java.util.Locale)\n",
      " - method: toLowerCase()\n",
      " - method: toUpperCase(java.util.Locale)\n",
      " - method: toUpperCase()\n",
      " - method: trim()\n",
      " - method: chars()\n",
      " - method: toCharArray()\n",
      " - method: format(java.util.Locale, java.lang.String, java.lang.Object[])\n",
      " - method: format(java.lang.String, java.lang.Object[])\n",
      " - method: copyValueOf(char[])\n",
      " - method: copyValueOf(char[], int, int)\n",
      " - method: intern()\n",
      " - method: isLatin1()\n",
      " - method: checkOffset(int, int)\n",
      " - method: checkBoundsOffCount(int, int, int)\n",
      " - method: checkBoundsBeginEnd(int, int, int)\n",
      " - method: access$100(java.lang.String)\n",
      " - method: access$200(java.lang.String)\n",
      " - constructor: java.lang.String(byte[])\n",
      " - constructor: java.lang.String(byte[], int, int)\n",
      " - constructor: java.lang.String(byte[], java.nio.charset.Charset)\n",
      " - constructor: java.lang.String(byte[], java.lang.String)\n",
      " - constructor: java.lang.String(byte[], int, int, java.nio.charset.Charset)\n",
      " - constructor: java.lang.String(java.lang.StringBuilder)\n",
      " - constructor: java.lang.String(java.lang.StringBuffer)\n",
      " - constructor: java.lang.String(char[], int, int)\n",
      " - constructor: java.lang.String(char[])\n",
      " - constructor: java.lang.String(java.lang.String)\n",
      " - constructor: java.lang.String()\n",
      " - constructor: java.lang.String(byte[], int, int, java.lang.String)\n",
      " - constructor: java.lang.String(byte[], int)\n",
      " - constructor: java.lang.String(byte[], int, int, int)\n",
      " - constructor: java.lang.String(int[], int, int)\n",
      " - constructor: java.lang.String(byte[])\n",
      " - constructor: java.lang.String(byte[], int, int)\n",
      " - constructor: java.lang.String(byte[], java.nio.charset.Charset)\n",
      " - constructor: java.lang.String(byte[], java.lang.String)\n",
      " - constructor: java.lang.String(byte[], int, int, java.nio.charset.Charset)\n",
      " - constructor: java.lang.String(char[], int, int, java.lang.Void)\n",
      " - constructor: java.lang.String(java.lang.AbstractStringBuilder, java.lang.Void)\n",
      " - constructor: java.lang.String(char[], boolean)\n",
      " - constructor: java.lang.String(java.lang.StringBuilder)\n",
      " - constructor: java.lang.String(java.lang.StringBuffer)\n",
      " - constructor: java.lang.String(byte[], byte)\n",
      " - constructor: java.lang.String(char[], int, int)\n",
      " - constructor: java.lang.String(char[])\n",
      " - constructor: java.lang.String(java.lang.String)\n",
      " - constructor: java.lang.String()\n",
      " - constructor: java.lang.String(byte[], int, int, java.lang.String)\n",
      " - constructor: java.lang.String(byte[], int)\n",
      " - constructor: java.lang.String(byte[], int, int, int)\n",
      " - constructor: java.lang.String(int[], int, int)\n"
     ]
    }
   ],
   "source": [
    "Class c1 = \"foo\".getClass(); \n",
    "examine(c1);"
   ]
  },
  {
   "cell_type": "code",
   "execution_count": 6,
   "metadata": {
    "collapsed": false
   },
   "outputs": [
    {
     "name": "stdout",
     "output_type": "stream",
     "text": [
      "Class: boolean\n",
      " - superclass: null\n",
      " - declaringClass: null\n",
      " - enclosingClass: null\n",
      " - modifiers: 1041\n",
      " - is abstract: true\n",
      " - is final: true\n",
      " - is public: true\n",
      " - is static: false\n"
     ]
    }
   ],
   "source": [
    "Class c2 = boolean.class;\n",
    "examine(c2);"
   ]
  },
  {
   "cell_type": "code",
   "execution_count": 7,
   "metadata": {
    "collapsed": false
   },
   "outputs": [
    {
     "name": "stdout",
     "output_type": "stream",
     "text": [
      "Class: class java.util.Optional\n",
      " - superclass: class java.lang.Object\n",
      " - declaringClass: null\n",
      " - enclosingClass: null\n",
      " - modifiers: 17\n",
      " - is abstract: false\n",
      " - is final: true\n",
      " - is public: true\n",
      " - is static: false\n",
      " - type variable: T\n",
      " - declared field: class java.util.Optional EMPTY\n",
      " - declared field: class java.lang.Object value\n",
      " - method: ifPresentOrElse(java.util.function.Consumer, java.lang.Runnable)\n",
      " - method: or(java.util.function.Supplier)\n",
      " - method: orElseGet(java.util.function.Supplier)\n",
      " - method: ifPresent(java.util.function.Consumer)\n",
      " - method: ofNullable(java.lang.Object)\n",
      " - method: get()\n",
      " - method: equals(java.lang.Object)\n",
      " - method: toString()\n",
      " - method: hashCode()\n",
      " - method: empty()\n",
      " - method: filter(java.util.function.Predicate)\n",
      " - method: stream()\n",
      " - method: map(java.util.function.Function)\n",
      " - method: of(java.lang.Object)\n",
      " - method: flatMap(java.util.function.Function)\n",
      " - method: orElse(java.lang.Object)\n",
      " - method: isPresent()\n",
      " - method: orElseThrow(java.util.function.Supplier)\n",
      " - method: wait(long, int)\n",
      " - method: wait()\n",
      " - method: wait(long)\n",
      " - method: getClass()\n",
      " - method: notify()\n",
      " - method: notifyAll()\n",
      " - method: ifPresentOrElse(java.util.function.Consumer, java.lang.Runnable)\n",
      " - method: or(java.util.function.Supplier)\n",
      " - method: orElseGet(java.util.function.Supplier)\n",
      " - method: ifPresent(java.util.function.Consumer)\n",
      " - method: ofNullable(java.lang.Object)\n",
      " - method: get()\n",
      " - method: equals(java.lang.Object)\n",
      " - method: toString()\n",
      " - method: hashCode()\n",
      " - method: empty()\n",
      " - method: filter(java.util.function.Predicate)\n",
      " - method: stream()\n",
      " - method: map(java.util.function.Function)\n",
      " - method: of(java.lang.Object)\n",
      " - method: flatMap(java.util.function.Function)\n",
      " - method: orElse(java.lang.Object)\n",
      " - method: isPresent()\n",
      " - method: orElseThrow(java.util.function.Supplier)\n",
      " - constructor: java.util.Optional(java.lang.Object)\n",
      " - constructor: java.util.Optional()\n"
     ]
    }
   ],
   "source": [
    "Class c3 = Class.forName(\"java.util.Optional\");\n",
    "examine(c3);"
   ]
  },
  {
   "cell_type": "code",
   "execution_count": 8,
   "metadata": {
    "collapsed": false
   },
   "outputs": [
    {
     "name": "stdout",
     "output_type": "stream",
     "text": [
      "Class: class [D\n",
      " - superclass: class java.lang.Object\n",
      " - declaringClass: null\n",
      " - enclosingClass: null\n",
      " - modifiers: 1041\n",
      " - is abstract: true\n",
      " - is final: true\n",
      " - is public: true\n",
      " - is static: false\n",
      " - generic interface: java.lang.Cloneable\n",
      " - generic interface: java.io.Serializable\n",
      " - method: wait(long, int)\n",
      " - method: wait()\n",
      " - method: wait(long)\n",
      " - method: equals(java.lang.Object)\n",
      " - method: toString()\n",
      " - method: hashCode()\n",
      " - method: getClass()\n",
      " - method: notify()\n",
      " - method: notifyAll()\n"
     ]
    }
   ],
   "source": [
    "Class c = Class.forName(\"[D\");\n",
    "examine(c);"
   ]
  },
  {
   "cell_type": "code",
   "execution_count": 9,
   "metadata": {
    "collapsed": false
   },
   "outputs": [
    {
     "name": "stdout",
     "output_type": "stream",
     "text": [
      "Class: class [[Ljava.lang.String;\n",
      " - superclass: class java.lang.Object\n",
      " - declaringClass: null\n",
      " - enclosingClass: null\n",
      " - modifiers: 1041\n",
      " - is abstract: true\n",
      " - is final: true\n",
      " - is public: true\n",
      " - is static: false\n",
      " - generic interface: java.lang.Cloneable\n",
      " - generic interface: java.io.Serializable\n",
      " - method: wait(long, int)\n",
      " - method: wait()\n",
      " - method: wait(long)\n",
      " - method: equals(java.lang.Object)\n",
      " - method: toString()\n",
      " - method: hashCode()\n",
      " - method: getClass()\n",
      " - method: notify()\n",
      " - method: notifyAll()\n"
     ]
    }
   ],
   "source": [
    "Class cStringArray = Class.forName(\"[[Ljava.lang.String;\");\n",
    "examine(cStringArray)"
   ]
  },
  {
   "cell_type": "code",
   "execution_count": 10,
   "metadata": {
    "collapsed": false
   },
   "outputs": [
    {
     "name": "stdout",
     "output_type": "stream",
     "text": [
      "Class: double\n",
      " - superclass: null\n",
      " - declaringClass: null\n",
      " - enclosingClass: null\n",
      " - modifiers: 1041\n",
      " - is abstract: true\n",
      " - is final: true\n",
      " - is public: true\n",
      " - is static: false\n"
     ]
    }
   ],
   "source": [
    "// For Primitive Type Wrappers\n",
    "Class c4 = Double.TYPE;\n",
    "examine(c4);"
   ]
  },
  {
   "cell_type": "code",
   "execution_count": 11,
   "metadata": {
    "collapsed": false
   },
   "outputs": [
    {
     "name": "stdout",
     "output_type": "stream",
     "text": [
      "Class: class REPL.$JShell$37$Testas\n",
      " - superclass: class java.lang.Object\n",
      " - declaringClass: class REPL.$JShell$37\n",
      " - enclosingClass: class REPL.$JShell$37\n",
      " - modifiers: 9\n",
      " - is abstract: false\n",
      " - is final: false\n",
      " - is public: true\n",
      " - is static: true\n",
      " - type variable: E\n",
      " - type variable: F\n",
      " - declared field: class java.lang.Object e\n",
      " - declared field: class java.lang.Object f\n",
      " - method: wait(long, int)\n",
      " - method: wait()\n",
      " - method: wait(long)\n",
      " - method: equals(java.lang.Object)\n",
      " - method: toString()\n",
      " - method: hashCode()\n",
      " - method: getClass()\n",
      " - method: notify()\n",
      " - method: notifyAll()\n",
      " - constructor: REPL.$JShell$37$Testas(java.lang.Object)\n"
     ]
    }
   ],
   "source": [
    "class Testas<E,F> { \n",
    "  private E e;\n",
    "  private F f;\n",
    "  Testas(E e) { this.e = e; }\n",
    "}\n",
    "examine(Testas.class);"
   ]
  },
  {
   "cell_type": "code",
   "execution_count": 12,
   "metadata": {
    "collapsed": false
   },
   "outputs": [
    {
     "ename": "CompilationException",
     "evalue": "",
     "output_type": "error",
     "traceback": [
      "\u001b[1m\u001b[30m|   \u001b[1m\u001b[30m\u001b[0m\u001b[1m\u001b[30m\u001b[41mTestas<String>\u001b[0m\u001b[1m\u001b[30m t = new Testas(\"Labas\");\u001b[0m",
      "\u001b[1m\u001b[31mwrong number of type arguments; required 2\u001b[0m",
      "",
      "\u001b[1m\u001b[30m|   \u001b[1m\u001b[30mTestas<String> t = \u001b[0m\u001b[1m\u001b[30m\u001b[41mnew Testas(\"Labas\")\u001b[0m\u001b[1m\u001b[30m;\u001b[0m",
      "\u001b[1m\u001b[31munchecked call to Testas(E) as a member of the raw type Testas\u001b[0m",
      ""
     ]
    }
   ],
   "source": [
    "Testas<String> t = new Testas(\"Labas\");\n",
    "examine(t.getClass());"
   ]
  },
  {
   "cell_type": "markdown",
   "metadata": {},
   "source": [
    "### Manipulations"
   ]
  },
  {
   "cell_type": "code",
   "execution_count": 13,
   "metadata": {
    "collapsed": false
   },
   "outputs": [],
   "source": [
    "Method toString = Object.class.getMethod(\"toString\")"
   ]
  },
  {
   "cell_type": "code",
   "execution_count": 14,
   "metadata": {
    "collapsed": false
   },
   "outputs": [
    {
     "data": {
      "text/plain": [
       "\"java.lang.Object@fad74ee\""
      ]
     },
     "execution_count": 14,
     "metadata": {},
     "output_type": "execute_result"
    }
   ],
   "source": [
    "toString.invoke(new Object());"
   ]
  },
  {
   "cell_type": "code",
   "execution_count": 15,
   "metadata": {
    "collapsed": false
   },
   "outputs": [],
   "source": [
    "Constructor<String> c = String.class.getConstructor(String.class);"
   ]
  },
  {
   "cell_type": "code",
   "execution_count": 16,
   "metadata": {
    "collapsed": false
   },
   "outputs": [],
   "source": [
    "String s = c.newInstance(\"Labutis\");"
   ]
  },
  {
   "cell_type": "code",
   "execution_count": 17,
   "metadata": {
    "collapsed": false
   },
   "outputs": [
    {
     "data": {
      "text/plain": [
       "\"Labutis\""
      ]
     },
     "execution_count": 17,
     "metadata": {},
     "output_type": "execute_result"
    }
   ],
   "source": [
    "s"
   ]
  },
  {
   "cell_type": "code",
   "execution_count": 18,
   "metadata": {
    "collapsed": false
   },
   "outputs": [],
   "source": [
    "Method len = String.class.getMethod(\"length\");"
   ]
  },
  {
   "cell_type": "code",
   "execution_count": 19,
   "metadata": {
    "collapsed": false
   },
   "outputs": [
    {
     "data": {
      "text/plain": [
       "7"
      ]
     },
     "execution_count": 19,
     "metadata": {},
     "output_type": "execute_result"
    }
   ],
   "source": [
    "len.invoke(s)"
   ]
  },
  {
   "cell_type": "code",
   "execution_count": 20,
   "metadata": {
    "collapsed": false
   },
   "outputs": [],
   "source": [
    "Field h = String.class.getDeclaredField(\"hash\");"
   ]
  },
  {
   "cell_type": "code",
   "execution_count": 21,
   "metadata": {
    "collapsed": false
   },
   "outputs": [],
   "source": [
    "h.setAccessible(true);"
   ]
  },
  {
   "cell_type": "code",
   "execution_count": 22,
   "metadata": {
    "collapsed": false
   },
   "outputs": [
    {
     "data": {
      "text/plain": [
       "0"
      ]
     },
     "execution_count": 22,
     "metadata": {},
     "output_type": "execute_result"
    }
   ],
   "source": [
    "h.get(s)"
   ]
  },
  {
   "cell_type": "code",
   "execution_count": 23,
   "metadata": {
    "collapsed": false
   },
   "outputs": [
    {
     "data": {
      "text/plain": [
       "1601936118"
      ]
     },
     "execution_count": 23,
     "metadata": {},
     "output_type": "execute_result"
    }
   ],
   "source": [
    "s.hashCode()"
   ]
  },
  {
   "cell_type": "code",
   "execution_count": 24,
   "metadata": {
    "collapsed": false
   },
   "outputs": [
    {
     "data": {
      "text/plain": [
       "1601936118"
      ]
     },
     "execution_count": 24,
     "metadata": {},
     "output_type": "execute_result"
    }
   ],
   "source": [
    "h.get(s)"
   ]
  },
  {
   "cell_type": "code",
   "execution_count": null,
   "metadata": {
    "collapsed": true
   },
   "outputs": [],
   "source": []
  }
 ],
 "metadata": {
  "kernelspec": {
   "display_name": "Java",
   "language": "java",
   "name": "java"
  },
  "language_info": {
   "codemirror_mode": "java",
   "file_extension": ".java",
   "mimetype": "text/x-java-source",
   "name": "Java",
   "pygments_lexer": "java",
   "version": "9.0.4+11"
  }
 },
 "nbformat": 4,
 "nbformat_minor": 0
}
