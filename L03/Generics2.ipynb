{
 "cells": [
  {
   "cell_type": "markdown",
   "metadata": {},
   "source": [
    "### Coins"
   ]
  },
  {
   "cell_type": "code",
   "execution_count": 1,
   "metadata": {
    "collapsed": false
   },
   "outputs": [],
   "source": [
    "class Coin {\n",
    "\n",
    "    private int i;\n",
    "    \n",
    "    { this.i = 10; }\n",
    "    { this.i = 11; }\n",
    "    { this.i = 12; }\n",
    "    \n",
    "    Coin() {\n",
    "        this.i = 100;\n",
    "    }\n",
    "    \n",
    "    @Override\n",
    "    public String toString() {\n",
    "      return String.format(\"Coin(%d)\", this.i);\n",
    "    }\n",
    "    \n",
    "}\n",
    "\n",
    "class Stamp {\n",
    "\n",
    "    @Override\n",
    "    public String toString() {\n",
    "      return String.format(\"Stamp\");\n",
    "    }\n",
    "    \n",
    "}"
   ]
  },
  {
   "cell_type": "code",
   "execution_count": 2,
   "metadata": {
    "collapsed": false
   },
   "outputs": [
    {
     "name": "stdout",
     "output_type": "stream",
     "text": [
      "Coin(100)\n",
      "Coin(100)\n",
      "Coin(100)\n"
     ]
    },
    {
     "ename": "EvalException",
     "evalue": "REPL.$JShell$16$Stamp cannot be cast to REPL.$JShell$15$Coin",
     "output_type": "error",
     "traceback": [
      "\u001b[1m\u001b[31m---------------------------------------------------------------------------\u001b[0m",
      "\u001b[1m\u001b[31mjava.lang.ClassCastException: REPL.$JShell$16$Stamp cannot be cast to REPL.$JShell$15$Coin\u001b[0m",
      "\u001b[1m\u001b[31m\tat .(#23:1)\u001b[0m"
     ]
    }
   ],
   "source": [
    "Collection coins = new ArrayList();\n",
    "\n",
    "coins.add(new Coin());\n",
    "coins.add(new Coin());\n",
    "coins.add(new Coin());\n",
    "coins.add(new Stamp());\n",
    "coins.add(new Coin());\n",
    "\n",
    "for (Iterator it = coins.iterator(); it.hasNext();) {\n",
    "    Coin c = (Coin) it.next();\n",
    "    System.out.println(c);\n",
    "}"
   ]
  },
  {
   "cell_type": "code",
   "execution_count": 3,
   "metadata": {
    "collapsed": false
   },
   "outputs": [
    {
     "ename": "CompilationException",
     "evalue": "",
     "output_type": "error",
     "traceback": [
      "\u001b[1m\u001b[30m|   \u001b[1m\u001b[30mcoins.add(\u001b[0m\u001b[1m\u001b[30m\u001b[41mnew Stamp()\u001b[0m\u001b[1m\u001b[30m);\u001b[0m",
      "\u001b[1m\u001b[31mincompatible types: Stamp cannot be converted to Coin\u001b[0m",
      ""
     ]
    }
   ],
   "source": [
    "Collection<Coin> coins = new ArrayList<>();\n",
    "\n",
    "coins.add(new Coin());\n",
    "coins.add(new Coin());\n",
    "coins.add(new Coin());\n",
    "coins.add(new Stamp());\n",
    "coins.add(new Coin());\n",
    "\n",
    "for (Iterator<Coin> it = coins.iterator(); it.hasNext();) {\n",
    "    Coin c = it.next();\n",
    "    System.out.println(c);\n",
    "}"
   ]
  },
  {
   "cell_type": "markdown",
   "metadata": {},
   "source": [
    "### Intersection"
   ]
  },
  {
   "cell_type": "code",
   "execution_count": 4,
   "metadata": {
    "collapsed": false
   },
   "outputs": [
    {
     "data": {
      "text/plain": [
       "true"
      ]
     },
     "execution_count": 4,
     "metadata": {},
     "output_type": "execute_result"
    }
   ],
   "source": [
    "Collection<String> strs = new ArrayList<>();\n",
    "strs.add(\"a\");\n",
    "strs.add(\"b\");\n",
    "strs.add(\"c\");\n",
    "\n",
    "Collection<Object> objs = new ArrayList<>();\n",
    "objs.add(1);\n",
    "objs.add(\"b\");\n",
    "objs.add(100);"
   ]
  },
  {
   "cell_type": "code",
   "execution_count": 5,
   "metadata": {
    "collapsed": true
   },
   "outputs": [],
   "source": [
    "int intersect(Collection c1, Collection c2) {\n",
    "    int result = 0;\n",
    "    c1.add(1);\n",
    "    for (Object o1: c1) {\n",
    "        for (Object o2: c2) {\n",
    "            if (o1.equals(o2)) {\n",
    "                result += 1;\n",
    "            }\n",
    "        }\n",
    "    }\n",
    "    return result;\n",
    "}"
   ]
  },
  {
   "cell_type": "code",
   "execution_count": 6,
   "metadata": {
    "collapsed": false
   },
   "outputs": [
    {
     "data": {
      "text/plain": [
       "2"
      ]
     },
     "execution_count": 6,
     "metadata": {},
     "output_type": "execute_result"
    }
   ],
   "source": [
    "intersect(strs, objs);"
   ]
  },
  {
   "cell_type": "code",
   "execution_count": 7,
   "metadata": {
    "collapsed": false
   },
   "outputs": [
    {
     "ename": "CompilationException",
     "evalue": "",
     "output_type": "error",
     "traceback": [
      "\u001b[1m\u001b[30m|   \u001b[1m\u001b[30m    c1.add(\u001b[0m\u001b[1m\u001b[30m\u001b[41m\"1\"\u001b[0m\u001b[1m\u001b[30m);\u001b[0m",
      "\u001b[1m\u001b[31mincompatible types: java.lang.String cannot be converted to capture#1 of ?\u001b[0m",
      ""
     ]
    }
   ],
   "source": [
    "int intersect(Collection<?> c1, Collection<?> c2) {\n",
    "    int result = 0;\n",
    "    c1.add(\"1\");\n",
    "    for (Object o1: c1) {\n",
    "        for (Object o2: c2) {\n",
    "            if (o1.equals(o2)) {\n",
    "                result += 1;\n",
    "            }\n",
    "        }\n",
    "    }\n",
    "    return result;\n",
    "}"
   ]
  },
  {
   "cell_type": "code",
   "execution_count": 8,
   "metadata": {
    "collapsed": false
   },
   "outputs": [
    {
     "data": {
      "text/plain": [
       "3"
      ]
     },
     "execution_count": 8,
     "metadata": {},
     "output_type": "execute_result"
    }
   ],
   "source": [
    "intersect(strs, objs);"
   ]
  },
  {
   "cell_type": "markdown",
   "metadata": {},
   "source": [
    "### Stack"
   ]
  },
  {
   "cell_type": "code",
   "execution_count": 9,
   "metadata": {
    "collapsed": true
   },
   "outputs": [],
   "source": [
    "interface Stack<T> {\n",
    "    \n",
    "    void push(T e);\n",
    "    T pop();\n",
    "    boolean isEmpty();\n",
    "    \n",
    "}"
   ]
  },
  {
   "cell_type": "code",
   "execution_count": 10,
   "metadata": {
    "collapsed": false
   },
   "outputs": [],
   "source": [
    "class StackImpl<E> implements Stack<E> {\n",
    "    \n",
    "    private E[] elements;\n",
    "    private int size = 0;\n",
    "    private static final int DEFAULT_CAPACITY_INC = 16;\n",
    "    \n",
    "    public StackImpl() {\n",
    "        elements = (E[]) new Object[DEFAULT_CAPACITY_INC];\n",
    "    }\n",
    "    \n",
    "    @Override\n",
    "    public void push(E obj) {\n",
    "        if (elements.length == size) {\n",
    "            elements = Arrays.copyOf(elements, 2 * size);\n",
    "        }\n",
    "        elements[size++] = obj;\n",
    "    }\n",
    "    \n",
    "    @Override\n",
    "    public E pop() {\n",
    "        if (size == 0) {\n",
    "            throw new EmptyStackException();\n",
    "        }\n",
    "        return elements[--size];\n",
    "    }\n",
    "    \n",
    "    @Override\n",
    "    public boolean isEmpty() {\n",
    "        return size == 0;\n",
    "    }\n",
    "    \n",
    "}"
   ]
  },
  {
   "cell_type": "code",
   "execution_count": 11,
   "metadata": {
    "collapsed": false
   },
   "outputs": [
    {
     "name": "stdout",
     "output_type": "stream",
     "text": [
      "Hello stack1!\n",
      "Hello stack!\n"
     ]
    }
   ],
   "source": [
    "Stack<String> stack = new StackImpl<>();\n",
    "\n",
    "stack.push(\"Hello stack!\");\n",
    "stack.push(\"Hello stack1!\");\n",
    "\n",
    "while (!stack.isEmpty()) {\n",
    "    System.out.println(stack.pop());\n",
    "}"
   ]
  },
  {
   "cell_type": "code",
   "execution_count": 12,
   "metadata": {
    "collapsed": false
   },
   "outputs": [
    {
     "name": "stdout",
     "output_type": "stream",
     "text": [
      "15\n",
      "12\n"
     ]
    }
   ],
   "source": [
    "Stack<Number> stack = new StackImpl<>();\n",
    "\n",
    "stack.push(12);\n",
    "stack.push(15);\n",
    "\n",
    "while (!stack.isEmpty()) {\n",
    "    System.out.println(stack.pop());\n",
    "}"
   ]
  },
  {
   "cell_type": "markdown",
   "metadata": {},
   "source": [
    "### Better stack"
   ]
  },
  {
   "cell_type": "code",
   "execution_count": 13,
   "metadata": {
    "collapsed": true
   },
   "outputs": [],
   "source": [
    "interface StackBetter<E> extends Stack<E> {\n",
    "    \n",
    "    void pushAll(Iterable<? extends E> it);  // Producer - extends\n",
    "    void popAll(Collection<? super E> col);  // Consumer - super\n",
    "    \n",
    "}"
   ]
  },
  {
   "cell_type": "code",
   "execution_count": 14,
   "metadata": {
    "collapsed": false
   },
   "outputs": [],
   "source": [
    "class StackBetterImpl<E> extends StackImpl<E> implements StackBetter<E> {\n",
    "    \n",
    "    @Override\n",
    "    public void pushAll(Iterable<? extends E> it) {\n",
    "        for (E e : it) {\n",
    "            this.push(e);\n",
    "        }\n",
    "    }\n",
    "\n",
    "    @Override\n",
    "    public void popAll(Collection<? super E> col) {\n",
    "        while (!isEmpty()) {\n",
    "            col.add(pop());\n",
    "        }\n",
    "    }\n",
    "    \n",
    "}"
   ]
  },
  {
   "cell_type": "code",
   "execution_count": 15,
   "metadata": {
    "collapsed": true
   },
   "outputs": [],
   "source": [
    "StackBetter<Number> stack = new StackBetterImpl<>();\n",
    "\n",
    "stack.push(12);\n",
    "stack.push(15);"
   ]
  },
  {
   "cell_type": "code",
   "execution_count": 16,
   "metadata": {
    "collapsed": true
   },
   "outputs": [],
   "source": [
    "Set<Integer> integers = new HashSet<Integer>(){{\n",
    "    add(1);\n",
    "    add(2);\n",
    "    add(3);\n",
    "}};\n",
    "\n",
    "stack.pushAll(integers);"
   ]
  },
  {
   "cell_type": "code",
   "execution_count": 17,
   "metadata": {
    "collapsed": true
   },
   "outputs": [],
   "source": [
    "Collection<Object> objs = new ArrayList<>();\n",
    "stack.popAll(objs);"
   ]
  },
  {
   "cell_type": "code",
   "execution_count": 18,
   "metadata": {
    "collapsed": true
   },
   "outputs": [],
   "source": [
    "while (!stack.isEmpty()) {\n",
    "    System.out.println(stack.pop());\n",
    "}"
   ]
  },
  {
   "cell_type": "markdown",
   "metadata": {},
   "source": [
    "### Static constructor"
   ]
  },
  {
   "cell_type": "code",
   "execution_count": 19,
   "metadata": {
    "collapsed": true
   },
   "outputs": [],
   "source": [
    "public static <K,V> HashMap<K,V> newHashMap() {\n",
    "    return new HashMap<K,V>();\n",
    "}"
   ]
  },
  {
   "cell_type": "code",
   "execution_count": 20,
   "metadata": {
    "collapsed": true
   },
   "outputs": [],
   "source": [
    "Map<Integer, List<String>> mymap01 = new HashMap<Integer, List<String>>();\n",
    "Map<Integer, List<String>> mymap02 = new HashMap<>();\n",
    "Map<Integer, List<String>> mymap03 = newHashMap();"
   ]
  },
  {
   "cell_type": "markdown",
   "metadata": {},
   "source": [
    "### Union"
   ]
  },
  {
   "cell_type": "code",
   "execution_count": 21,
   "metadata": {
    "collapsed": true
   },
   "outputs": [],
   "source": [
    "Set<String> strings = new HashSet<String>() {{\n",
    "    add(\"a\"); add(\"b\");\n",
    "}};\n",
    "\n",
    "Set<Integer> integers = new HashSet<Integer>() {{\n",
    "    add(1); add(2);\n",
    "}};"
   ]
  },
  {
   "cell_type": "markdown",
   "metadata": {},
   "source": [
    "Union with objects"
   ]
  },
  {
   "cell_type": "code",
   "execution_count": 22,
   "metadata": {
    "collapsed": true
   },
   "outputs": [],
   "source": [
    "Set union(Set s1, Set s2) {\n",
    "    Set result = new HashSet(s1);\n",
    "    result.addAll(s2);\n",
    "    return result;\n",
    "}"
   ]
  },
  {
   "cell_type": "code",
   "execution_count": 23,
   "metadata": {
    "collapsed": false
   },
   "outputs": [
    {
     "name": "stdout",
     "output_type": "stream",
     "text": [
      "[a, 1, b, 2]\n"
     ]
    }
   ],
   "source": [
    "System.out.println(union(strings, integers));"
   ]
  },
  {
   "cell_type": "markdown",
   "metadata": {},
   "source": [
    "Union with same types."
   ]
  },
  {
   "cell_type": "code",
   "execution_count": 24,
   "metadata": {
    "collapsed": true
   },
   "outputs": [],
   "source": [
    "<E> Set<E> union(Set<E> s1, Set<E> s2) {\n",
    "    Set<E> result = new HashSet<>(s1);\n",
    "    result.addAll(s2);\n",
    "    return result;\n",
    "}"
   ]
  },
  {
   "cell_type": "code",
   "execution_count": 25,
   "metadata": {
    "collapsed": false
   },
   "outputs": [
    {
     "name": "stdout",
     "output_type": "stream",
     "text": [
      "[a, b, c]\n"
     ]
    }
   ],
   "source": [
    "System.out.println(union(strings, new HashSet<String>() {{\n",
    "    add(\"c\"); add(\"a\");\n",
    "}}));"
   ]
  },
  {
   "cell_type": "markdown",
   "metadata": {},
   "source": [
    "Union for supertype"
   ]
  },
  {
   "cell_type": "code",
   "execution_count": 26,
   "metadata": {
    "collapsed": true
   },
   "outputs": [],
   "source": [
    "<E> Set<E> union(Set<? extends E> s1, Set<? extends E> s2) {\n",
    "    Set<E> result = new HashSet<>(s1);\n",
    "    result.addAll(s2);\n",
    "    return result;\n",
    "}"
   ]
  },
  {
   "cell_type": "code",
   "execution_count": 27,
   "metadata": {
    "collapsed": false
   },
   "outputs": [
    {
     "name": "stdout",
     "output_type": "stream",
     "text": [
      "[1, a, 2, b]\n"
     ]
    }
   ],
   "source": [
    "Set<Object> objs = union(integers, strings);\n",
    "System.out.println(objs);"
   ]
  },
  {
   "cell_type": "code",
   "execution_count": 28,
   "metadata": {
    "collapsed": false
   },
   "outputs": [
    {
     "name": "stdout",
     "output_type": "stream",
     "text": [
      "[1.0, 2.0, 1, 2]\n"
     ]
    }
   ],
   "source": [
    "Set<Number> nums = union(integers, \n",
    "    new HashSet<Double>() {{\n",
    "        add(1D); add(2D);\n",
    "    }});\n",
    "System.out.println(nums);"
   ]
  },
  {
   "cell_type": "code",
   "execution_count": null,
   "metadata": {
    "collapsed": true
   },
   "outputs": [],
   "source": []
  }
 ],
 "metadata": {
  "kernelspec": {
   "display_name": "Java",
   "language": "java",
   "name": "java"
  },
  "language_info": {
   "codemirror_mode": "java",
   "file_extension": ".java",
   "mimetype": "text/x-java-source",
   "name": "Java",
   "pygments_lexer": "java",
   "version": "9.0.4+11"
  }
 },
 "nbformat": 4,
 "nbformat_minor": 2
}
