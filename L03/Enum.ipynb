{
 "cells": [
  {
   "cell_type": "markdown",
   "metadata": {},
   "source": [
    "### Simple Day enum"
   ]
  },
  {
   "cell_type": "code",
   "execution_count": 1,
   "metadata": {
    "collapsed": true
   },
   "outputs": [],
   "source": [
    "public enum Day { \n",
    "    \n",
    "  SUNDAY, \n",
    "  MONDAY, \n",
    "  TUESDAY,\n",
    "  WEDNESDAY,\n",
    "  THURSDAY,\n",
    "  FRIDAY,\n",
    "  SATURDAY\n",
    "      \n",
    "}"
   ]
  },
  {
   "cell_type": "code",
   "execution_count": 2,
   "metadata": {
    "collapsed": false
   },
   "outputs": [
    {
     "data": {
      "text/plain": [
       "MONDAY"
      ]
     },
     "execution_count": 2,
     "metadata": {},
     "output_type": "execute_result"
    }
   ],
   "source": [
    "Day day = Day.MONDAY; \n",
    "day"
   ]
  },
  {
   "cell_type": "code",
   "execution_count": 3,
   "metadata": {
    "collapsed": false
   },
   "outputs": [
    {
     "name": "stdout",
     "output_type": "stream",
     "text": [
      "Mondays are bad.\n"
     ]
    }
   ],
   "source": [
    "switch (day) { \n",
    "  case MONDAY: \n",
    "    System.out.println(\"Mondays are bad.\"); \n",
    "    break; \n",
    "  case FRIDAY: \n",
    "    System.out.println(\"Fridays are better.\"); \n",
    "    break; \n",
    "}"
   ]
  },
  {
   "cell_type": "code",
   "execution_count": 4,
   "metadata": {
    "collapsed": false
   },
   "outputs": [
    {
     "name": "stdout",
     "output_type": "stream",
     "text": [
      "SUNDAY\n",
      "MONDAY\n",
      "TUESDAY\n",
      "WEDNESDAY\n",
      "THURSDAY\n",
      "FRIDAY\n",
      "SATURDAY\n"
     ]
    }
   ],
   "source": [
    "for (Day d: Day.values()) {\n",
    " System.out.println(d.name());\n",
    "}"
   ]
  },
  {
   "cell_type": "markdown",
   "metadata": {},
   "source": [
    "### Planet enum"
   ]
  },
  {
   "cell_type": "code",
   "execution_count": 5,
   "metadata": {
    "collapsed": false
   },
   "outputs": [],
   "source": [
    "public enum Planet {\n",
    "\n",
    "    MERCURY (3.303e+23, 2.4397e6),\n",
    "    VENUS   (4.869e+24, 6.0518e6),\n",
    "    EARTH   (5.976e+24, 6.37814e6),\n",
    "    MARS    (6.421e+23, 3.3972e6),\n",
    "    JUPITER (1.9e+27,   7.1492e7),\n",
    "    SATURN  (5.688e+26, 6.0268e7),\n",
    "    URANUS  (8.686e+25, 2.5559e7),\n",
    "    NEPTUNE (1.024e+26, 2.4746e7);\n",
    "\n",
    "    private final double mass;   // in kilograms\n",
    "    private final double radius; // in meters\n",
    "    \n",
    "    Planet(double mass, double radius) {\n",
    "        this.mass = mass;\n",
    "        this.radius = radius;\n",
    "    }\n",
    "\n",
    "    public static final double G = 6.67300E-11;\n",
    "\n",
    "    double surfaceGravity() {\n",
    "        return G * mass / (radius * radius);\n",
    "    }\n",
    "\n",
    "    double surfaceWeight(double otherMass) {\n",
    "        return otherMass * surfaceGravity();\n",
    "    }\n",
    "\n",
    "}"
   ]
  },
  {
   "cell_type": "code",
   "execution_count": 6,
   "metadata": {
    "collapsed": true
   },
   "outputs": [],
   "source": [
    "void yourWeight(double earthWeight) {\n",
    "\n",
    "  double mass = earthWeight / Planet.EARTH.surfaceGravity();\n",
    "\n",
    "  for (Planet p : Planet.values())\n",
    "    printf(\"Your weight on %s is %.2f kg%n\", p, p.surfaceWeight(mass));\n",
    "}"
   ]
  },
  {
   "cell_type": "code",
   "execution_count": 7,
   "metadata": {
    "collapsed": false
   },
   "outputs": [
    {
     "name": "stdout",
     "output_type": "stream",
     "text": [
      "Your weight on MERCURY is 34.00 kg\n",
      "Your weight on VENUS is 81.45 kg\n",
      "Your weight on EARTH is 90.00 kg\n",
      "Your weight on MARS is 34.09 kg\n",
      "Your weight on JUPITER is 227.75 kg\n",
      "Your weight on SATURN is 95.94 kg\n",
      "Your weight on URANUS is 81.46 kg\n",
      "Your weight on NEPTUNE is 102.45 kg\n"
     ]
    }
   ],
   "source": [
    "yourWeight(90.0d);"
   ]
  },
  {
   "cell_type": "markdown",
   "metadata": {},
   "source": [
    "### Operation"
   ]
  },
  {
   "cell_type": "code",
   "execution_count": 8,
   "metadata": {
    "collapsed": true
   },
   "outputs": [],
   "source": [
    "public interface Operation {\n",
    "\n",
    "    public String name();\n",
    "    public double apply(double x, double y);\n",
    "\n",
    "}"
   ]
  },
  {
   "cell_type": "code",
   "execution_count": 9,
   "metadata": {
    "collapsed": true
   },
   "outputs": [],
   "source": [
    "public enum BasicOperation implements Operation {\n",
    "\n",
    "  PLUS {\n",
    "    public double apply(double x, double y) { return x + y; }\n",
    "  },\n",
    "  \n",
    "  MINUS {\n",
    "    public double apply(double x, double y) { return x - y; }\n",
    "  },\n",
    "  \n",
    "  MULTIPLY {\n",
    "    public double apply(double x, double y) { return x * y; }\n",
    "  },\n",
    "  \n",
    "  DIVIDE {\n",
    "    public double apply(double x, double y) { return x / y; }\n",
    "  };\n",
    "  \n",
    "}"
   ]
  },
  {
   "cell_type": "code",
   "execution_count": 10,
   "metadata": {
    "collapsed": false
   },
   "outputs": [],
   "source": [
    "class CustomOp implements Operation {\n",
    "\n",
    "  private final double pow;\n",
    "  \n",
    "  CustomOp(double pow) {\n",
    "      this.pow = pow;\n",
    "  }\n",
    "\n",
    "  public String name() {\n",
    "      return String.format(\"(x^%f + y^%f)\", this.pow, this.pow);\n",
    "  }\n",
    "\n",
    "  public double apply(double x, double y) { \n",
    "    return Math.pow(x, pow) + Math.pow(y, pow); \n",
    "  }\n",
    "\n",
    "}"
   ]
  },
  {
   "cell_type": "code",
   "execution_count": 11,
   "metadata": {
    "collapsed": false
   },
   "outputs": [
    {
     "name": "stdout",
     "output_type": "stream",
     "text": [
      "12.00 PLUS 34.00 = 46.000000\n",
      "12.00 MINUS 34.00 = -22.000000\n",
      "12.00 MULTIPLY 34.00 = 408.000000\n",
      "12.00 DIVIDE 34.00 = 0.352941\n"
     ]
    }
   ],
   "source": [
    "double x = 12.0d;\n",
    "double y = 34.0d;\n",
    "\n",
    "for (Operation op: BasicOperation.values()) {\n",
    "  printf(\"%.2f %s %.2f = %f%n\", x, op, y, op.apply(x, y));\n",
    "}"
   ]
  },
  {
   "cell_type": "code",
   "execution_count": 12,
   "metadata": {
    "collapsed": false
   },
   "outputs": [
    {
     "name": "stdout",
     "output_type": "stream",
     "text": [
      "(x^2.000000 + y^2.000000) = 1300.000000\n"
     ]
    }
   ],
   "source": [
    "CustomOp op = new CustomOp(2);\n",
    "printf(\"%s = %f%n\", op.name(), op.apply(12.0d,34.0d));"
   ]
  },
  {
   "cell_type": "markdown",
   "metadata": {
    "collapsed": true
   },
   "source": [
    "### Ordinal"
   ]
  },
  {
   "cell_type": "code",
   "execution_count": 13,
   "metadata": {
    "collapsed": false
   },
   "outputs": [],
   "source": [
    "public enum Day { \n",
    "    \n",
    "  SUNDAY, \n",
    "  MONDAY, \n",
    "  TUESDAY,\n",
    "  WEDNESDAY,\n",
    "  THURSDAY,\n",
    "  FRIDAY,\n",
    "  SATURDAY;\n",
    "  \n",
    "  public int getIndex() { return ordinal() + 1; }\n",
    "      \n",
    "}"
   ]
  },
  {
   "cell_type": "code",
   "execution_count": 14,
   "metadata": {
    "collapsed": false
   },
   "outputs": [
    {
     "name": "stdout",
     "output_type": "stream",
     "text": [
      "SUNDAY: index = 1, ordinal = 0\n",
      "MONDAY: index = 2, ordinal = 1\n",
      "TUESDAY: index = 3, ordinal = 2\n",
      "WEDNESDAY: index = 4, ordinal = 3\n",
      "THURSDAY: index = 5, ordinal = 4\n",
      "FRIDAY: index = 6, ordinal = 5\n",
      "SATURDAY: index = 7, ordinal = 6\n"
     ]
    }
   ],
   "source": [
    "for (Day d: Day.values()) {\n",
    "  printf(\"%s: index = %d, ordinal = %d%n\", d, d.getIndex(), d.ordinal());\n",
    "}"
   ]
  },
  {
   "cell_type": "code",
   "execution_count": 15,
   "metadata": {
    "collapsed": false
   },
   "outputs": [],
   "source": [
    "public enum Day { \n",
    "    \n",
    "  SUNDAY(1), \n",
    "  TUESDAY(3),\n",
    "  WEDNESDAY(4),\n",
    "  MONDAY(2), \n",
    "  THURSDAY(5),\n",
    "  FRIDAY(6),\n",
    "  SATURDAY(7);\n",
    "  \n",
    "  private final int index;\n",
    "  \n",
    "  Day(int index) {\n",
    "    this.index = index;\n",
    "  }\n",
    "  \n",
    "  public int getIndex() { return index; }\n",
    "      \n",
    "}"
   ]
  },
  {
   "cell_type": "code",
   "execution_count": 16,
   "metadata": {
    "collapsed": false
   },
   "outputs": [
    {
     "name": "stdout",
     "output_type": "stream",
     "text": [
      "SUNDAY: index = 1, ordinal = 0\n",
      "TUESDAY: index = 3, ordinal = 1\n",
      "WEDNESDAY: index = 4, ordinal = 2\n",
      "MONDAY: index = 2, ordinal = 3\n",
      "THURSDAY: index = 5, ordinal = 4\n",
      "FRIDAY: index = 6, ordinal = 5\n",
      "SATURDAY: index = 7, ordinal = 6\n"
     ]
    }
   ],
   "source": [
    "for (Day d: Day.values()) {\n",
    "  printf(\"%s: index = %d, ordinal = %d%n\", d, d.getIndex(), d.ordinal());\n",
    "}"
   ]
  },
  {
   "cell_type": "markdown",
   "metadata": {},
   "source": [
    "### Extending Enums"
   ]
  },
  {
   "cell_type": "code",
   "execution_count": 17,
   "metadata": {
    "collapsed": false
   },
   "outputs": [
    {
     "ename": "CompilationException",
     "evalue": "",
     "output_type": "error",
     "traceback": [
      "\u001b[1m\u001b[30m|   \u001b[1m\u001b[30m\u001b[0m\u001b[1m\u001b[30m\u001b[41mnew Day()\u001b[0m\u001b[1m\u001b[30m\u001b[0m",
      "\u001b[1m\u001b[31menum types may not be instantiated\u001b[0m",
      ""
     ]
    }
   ],
   "source": [
    "new Day()"
   ]
  },
  {
   "cell_type": "code",
   "execution_count": 18,
   "metadata": {
    "collapsed": false
   },
   "outputs": [],
   "source": [
    "public enum WorkDay { \n",
    "    \n",
    "  MONDAY, \n",
    "  TUESDAY,\n",
    "  WEDNESDAY,\n",
    "  THURSDAY,\n",
    "  FRIDAY;\n",
    "      \n",
    "}"
   ]
  },
  {
   "cell_type": "code",
   "execution_count": 19,
   "metadata": {
    "collapsed": false
   },
   "outputs": [
    {
     "ename": "CompilationException",
     "evalue": "",
     "output_type": "error",
     "traceback": [
      "\u001b[1m\u001b[30m|   \u001b[1m\u001b[30mpublic enum Day\u001b[0m\u001b[1m\u001b[30m\u001b[41m\u001b[0m\u001b[1m\u001b[30m extends WorkDay { \u001b[0m",
      "\u001b[1m\u001b[31m'{' expected\u001b[0m",
      "",
      "\u001b[1m\u001b[30m|   \u001b[1m\u001b[30mpublic enum Day \u001b[0m\u001b[1m\u001b[30m\u001b[41m\u001b[0m\u001b[1m\u001b[30mextends WorkDay { \u001b[0m",
      "\u001b[1m\u001b[31m',', '}', or ';' expected\u001b[0m",
      "",
      "\u001b[1m\u001b[30m|   \u001b[1m\u001b[30mpublic enum Day extends\u001b[0m\u001b[1m\u001b[30m\u001b[41m\u001b[0m\u001b[1m\u001b[30m WorkDay { \u001b[0m",
      "\u001b[1m\u001b[31m'}' expected\u001b[0m",
      ""
     ]
    }
   ],
   "source": [
    "public enum Day extends WorkDay { \n",
    "    \n",
    "  SUNDAY, \n",
    "  SATURDAY;\n",
    "      \n",
    "}"
   ]
  },
  {
   "cell_type": "code",
   "execution_count": 20,
   "metadata": {
    "collapsed": false
   },
   "outputs": [],
   "source": [
    "interface Day {\n",
    "    String name();\n",
    "    int getIndex();\n",
    "}"
   ]
  },
  {
   "cell_type": "code",
   "execution_count": 21,
   "metadata": {
    "collapsed": false
   },
   "outputs": [],
   "source": [
    "enum WeekDay implements Day { \n",
    "    \n",
    "  MONDAY(1), \n",
    "  TUESDAY(2),\n",
    "  WEDNESDAY(3),\n",
    "  THURSDAY(4),\n",
    "  FRIDAY(5);\n",
    "  \n",
    "  private final int index;\n",
    "  \n",
    "  WeekDay(int index) {\n",
    "    this.index = index;\n",
    "  }\n",
    "  \n",
    "  public int getIndex() { return index; }\n",
    "      \n",
    "}"
   ]
  },
  {
   "cell_type": "code",
   "execution_count": 22,
   "metadata": {
    "collapsed": true
   },
   "outputs": [],
   "source": [
    "enum WeekendDay implements Day { \n",
    "    \n",
    "  SUNDAY(0),\n",
    "  SATURDAY(6);\n",
    "  \n",
    "  private final int index;\n",
    "  \n",
    "  WeekendDay(int index) {\n",
    "    this.index = index;\n",
    "  }\n",
    "  \n",
    "  public int getIndex() { return index; }\n",
    "      \n",
    "}"
   ]
  },
  {
   "cell_type": "code",
   "execution_count": 23,
   "metadata": {
    "collapsed": false
   },
   "outputs": [],
   "source": [
    "class AnyDay implements Day {\n",
    "\n",
    "    private final Day day;\n",
    "\n",
    "    AnyDay(Day day) {\n",
    "        this.day = day;\n",
    "    }\n",
    "\n",
    "    static Day valueOf(String name) {\n",
    "        for (WeekDay d: WeekDay.values()) {\n",
    "            if (d.name().equalsIgnoreCase(name)) return new AnyDay(d);\n",
    "        }\n",
    "        for (WeekendDay d: WeekendDay.values()) {\n",
    "            if (d.name().equalsIgnoreCase(name)) return new AnyDay(d);\n",
    "        }\n",
    "        return null;\n",
    "    }\n",
    "    \n",
    "    static Day[] values() {\n",
    "        List<Day> days = new ArrayList<>();\n",
    "        days.addAll(Arrays.asList(WeekendDay.values()));\n",
    "        days.addAll(Arrays.asList(WeekDay.values()));\n",
    "        Collections.sort(days, new Comparator<Day>() {\n",
    "            public int compare(Day d1,Day d2) {\n",
    "                return d1.getIndex() > d2.getIndex() ? +1 : d1.getIndex() < d2.getIndex() ? -1 : 0;\n",
    "            }\n",
    "        });\n",
    "        return (Day[]) days.toArray(new Day[0]);\n",
    "    }\n",
    "  \n",
    "    public int getIndex() { \n",
    "        return this.day.getIndex(); \n",
    "    }\n",
    "\n",
    "    public String name() { \n",
    "        return this.day.name(); \n",
    "    }\n",
    "\n",
    "    public String toString() { \n",
    "        return this.name(); \n",
    "    }\n",
    "\n",
    "}"
   ]
  },
  {
   "cell_type": "code",
   "execution_count": 24,
   "metadata": {
    "collapsed": false,
    "scrolled": false
   },
   "outputs": [
    {
     "data": {
      "text/plain": [
       "SUNDAY"
      ]
     },
     "execution_count": 24,
     "metadata": {},
     "output_type": "execute_result"
    }
   ],
   "source": [
    "AnyDay.valueOf(\"SUNDAY\")"
   ]
  },
  {
   "cell_type": "code",
   "execution_count": 25,
   "metadata": {
    "collapsed": false
   },
   "outputs": [
    {
     "name": "stdout",
     "output_type": "stream",
     "text": [
      "SUNDAY\n",
      "MONDAY\n",
      "TUESDAY\n",
      "WEDNESDAY\n",
      "THURSDAY\n",
      "FRIDAY\n",
      "SATURDAY\n"
     ]
    }
   ],
   "source": [
    "for (Day d: AnyDay.values()) {\n",
    "    System.out.println(d);\n",
    "}"
   ]
  },
  {
   "cell_type": "code",
   "execution_count": null,
   "metadata": {
    "collapsed": true
   },
   "outputs": [],
   "source": []
  }
 ],
 "metadata": {
  "kernelspec": {
   "display_name": "Java",
   "language": "java",
   "name": "java"
  },
  "language_info": {
   "codemirror_mode": "java",
   "file_extension": ".java",
   "mimetype": "text/x-java-source",
   "name": "Java",
   "pygments_lexer": "java",
   "version": "9.0.4+11"
  }
 },
 "nbformat": 4,
 "nbformat_minor": 2
}
