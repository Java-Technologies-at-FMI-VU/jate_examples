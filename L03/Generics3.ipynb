{
 "cells": [
  {
   "cell_type": "code",
   "execution_count": 1,
   "metadata": {
    "collapsed": true
   },
   "outputs": [],
   "source": [
    "<E> void test(E o) {\n",
    "    print(o);\n",
    "}"
   ]
  },
  {
   "cell_type": "code",
   "execution_count": 2,
   "metadata": {
    "collapsed": false
   },
   "outputs": [
    {
     "ename": "UnresolvedReferenceException",
     "evalue": "Attempt to use definition snippet with unresolved references",
     "output_type": "error",
     "traceback": [
      "\u001b[1m\u001b[31m---------------------------------------------------------------------------\u001b[0m",
      "\u001b[1m\u001b[31mjdk.jshell.UnresolvedReferenceException: Attempt to use definition snippet with unresolved references\u001b[0m",
      "\u001b[1m\u001b[31m\tat .test(#15:1)\u001b[0m",
      "\u001b[1m\u001b[31m\tat .(#16:1)\u001b[0m"
     ]
    }
   ],
   "source": [
    "test(\"Labas\");"
   ]
  },
  {
   "cell_type": "code",
   "execution_count": 3,
   "metadata": {
    "collapsed": false
   },
   "outputs": [
    {
     "ename": "CompilationException",
     "evalue": "",
     "output_type": "error",
     "traceback": [
      "\u001b[1m\u001b[30m|   \u001b[1m\u001b[30m    E a = new \u001b[0m\u001b[1m\u001b[30m\u001b[41mE\u001b[0m\u001b[1m\u001b[30m();\u001b[0m",
      "\u001b[1m\u001b[31munexpected type\u001b[0m",
      "\u001b[1m\u001b[31m  required: class\u001b[0m",
      "\u001b[1m\u001b[31m  found:    type parameter E\u001b[0m",
      ""
     ]
    }
   ],
   "source": [
    "<E> void test(E o) {\n",
    "    E a = new E();\n",
    "}"
   ]
  },
  {
   "cell_type": "code",
   "execution_count": 4,
   "metadata": {
    "collapsed": false
   },
   "outputs": [
    {
     "ename": "CompilationException",
     "evalue": "",
     "output_type": "error",
     "traceback": [
      "\u001b[1m\u001b[30m|   \u001b[1m\u001b[30m    return \"Labas\" instanceof \u001b[0m\u001b[1m\u001b[30m\u001b[41mE\u001b[0m\u001b[1m\u001b[30m;\u001b[0m",
      "\u001b[1m\u001b[31millegal generic type for instanceof\u001b[0m",
      ""
     ]
    }
   ],
   "source": [
    "<E> boolean test(E o) {\n",
    "    return \"Labas\" instanceof E;\n",
    "}"
   ]
  },
  {
   "cell_type": "code",
   "execution_count": 5,
   "metadata": {
    "collapsed": false
   },
   "outputs": [],
   "source": [
    "<E> boolean test(Class<E> c, E o) {\n",
    "    return \"Labas\".getClass().equals(c);\n",
    "}"
   ]
  },
  {
   "cell_type": "code",
   "execution_count": 6,
   "metadata": {
    "collapsed": false
   },
   "outputs": [
    {
     "data": {
      "text/plain": [
       "false"
      ]
     },
     "execution_count": 6,
     "metadata": {},
     "output_type": "execute_result"
    }
   ],
   "source": [
    "test(Integer.class, 1);"
   ]
  },
  {
   "cell_type": "code",
   "execution_count": 7,
   "metadata": {
    "collapsed": false
   },
   "outputs": [
    {
     "ename": "CompilationException",
     "evalue": "",
     "output_type": "error",
     "traceback": [
      "\u001b[1m\u001b[30m|   \u001b[1m\u001b[30m\u001b[0m\u001b[1m\u001b[30m\u001b[41mtest\u001b[0m\u001b[1m\u001b[30m(String.class, 1);\u001b[0m",
      "\u001b[1m\u001b[31mmethod test in class  cannot be applied to given types;\u001b[0m",
      "\u001b[1m\u001b[31m  required: java.lang.Class<E>,E\u001b[0m",
      "\u001b[1m\u001b[31m  found: java.lang.Class<java.lang.String>,int\u001b[0m",
      "\u001b[1m\u001b[31m  reason: inference variable E has incompatible bounds\u001b[0m",
      "\u001b[1m\u001b[31m    equality constraints: java.lang.String\u001b[0m",
      "\u001b[1m\u001b[31m    lower bounds: java.lang.Integer\u001b[0m",
      ""
     ]
    }
   ],
   "source": [
    "test(String.class, 1);"
   ]
  },
  {
   "cell_type": "code",
   "execution_count": 8,
   "metadata": {
    "collapsed": false
   },
   "outputs": [
    {
     "data": {
      "text/plain": [
       "true"
      ]
     },
     "execution_count": 8,
     "metadata": {},
     "output_type": "execute_result"
    }
   ],
   "source": [
    "test(String.class, \"Rytas\");"
   ]
  },
  {
   "cell_type": "code",
   "execution_count": null,
   "metadata": {
    "collapsed": true
   },
   "outputs": [],
   "source": []
  }
 ],
 "metadata": {
  "kernelspec": {
   "display_name": "Java",
   "language": "java",
   "name": "java"
  },
  "language_info": {
   "codemirror_mode": "java",
   "file_extension": ".java",
   "mimetype": "text/x-java-source",
   "name": "Java",
   "pygments_lexer": "java",
   "version": "9.0.4+11"
  }
 },
 "nbformat": 4,
 "nbformat_minor": 0
}
