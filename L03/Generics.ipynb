{
 "cells": [
  {
   "cell_type": "markdown",
   "metadata": {},
   "source": [
    "### String Optional"
   ]
  },
  {
   "cell_type": "code",
   "execution_count": 1,
   "metadata": {
    "collapsed": false
   },
   "outputs": [],
   "source": [
    "class Optional {\n",
    "\n",
    "  private final String value;\n",
    "\n",
    "  public Optional(String value) {\n",
    "    this.value = value;\n",
    "  }\n",
    "  \n",
    "  String get() { \n",
    "    return this.value;\n",
    "  }\n",
    "\n",
    "  boolean isPresent() {\n",
    "    return this.value != null;\n",
    "  }\n",
    "  \n",
    "  String orElse(String value) {\n",
    "    return isPresent() ? this.value : value;\n",
    "  }\n",
    "\n",
    "}"
   ]
  },
  {
   "cell_type": "code",
   "execution_count": 2,
   "metadata": {
    "collapsed": false
   },
   "outputs": [],
   "source": [
    "class Car {\n",
    "\n",
    "  private final String name;\n",
    "  private String nickname;\n",
    "  private Integer maxSpeed;\n",
    "\n",
    "  Car(String name) {\n",
    "    this.name = name;\n",
    "  }\n",
    "  \n",
    "  void setMaxSpeed(int maxSpeed) {\n",
    "    this.maxSpeed = maxSpeed;\n",
    "  }\n",
    "  \n",
    "  void setNickname(String nickname) {\n",
    "    this.nickname = nickname;\n",
    "  }\n",
    "  \n",
    "  String getName() {\n",
    "    return name;\n",
    "  }\n",
    "\n",
    "  Optional getNickname() {\n",
    "    return new Optional(this.nickname);\n",
    "  }\n",
    "\n",
    "  Integer getMaxSpeed() {\n",
    "    return this.maxSpeed;\n",
    "  }\n",
    "\n",
    "}"
   ]
  },
  {
   "cell_type": "code",
   "execution_count": 3,
   "metadata": {
    "collapsed": false
   },
   "outputs": [
    {
     "name": "stdout",
     "output_type": "stream",
     "text": [
      "VW\n"
     ]
    }
   ],
   "source": [
    "Car c = new Car(\"VW\");\n",
    "System.out.println(c.getNickname().orElse(c.getName()));"
   ]
  },
  {
   "cell_type": "code",
   "execution_count": 4,
   "metadata": {
    "collapsed": false
   },
   "outputs": [
    {
     "name": "stdout",
     "output_type": "stream",
     "text": [
      "fly\n"
     ]
    }
   ],
   "source": [
    "c.setNickname(\"fly\");\n",
    "System.out.println(c.getNickname().orElse(c.getName()));"
   ]
  },
  {
   "cell_type": "markdown",
   "metadata": {},
   "source": [
    "### Object Optional"
   ]
  },
  {
   "cell_type": "code",
   "execution_count": 5,
   "metadata": {
    "collapsed": true
   },
   "outputs": [],
   "source": [
    "class Optional {\n",
    "\n",
    "  private final Object value;\n",
    "\n",
    "  public Optional(Object value) {\n",
    "    this.value = value;\n",
    "  }\n",
    "  \n",
    "  Object get() { \n",
    "    return this.value;\n",
    "  }\n",
    "\n",
    "  boolean isPresent() {\n",
    "    return this.value != null;\n",
    "  }\n",
    "  \n",
    "  Object orElse(Object value) {\n",
    "    return isPresent() ? this.value : value;\n",
    "  }\n",
    "\n",
    "}"
   ]
  },
  {
   "cell_type": "code",
   "execution_count": 6,
   "metadata": {
    "collapsed": true
   },
   "outputs": [],
   "source": [
    "class Car {\n",
    "\n",
    "  private final String name;\n",
    "  private String nickname;\n",
    "  private Integer maxSpeed;\n",
    "\n",
    "  Car(String name) {\n",
    "    this.name = name;\n",
    "  }\n",
    "  \n",
    "  void setMaxSpeed(int maxSpeed) {\n",
    "    this.maxSpeed = maxSpeed;\n",
    "  }\n",
    "  \n",
    "  void setNickname(String nickname) {\n",
    "    this.nickname = nickname;\n",
    "  }\n",
    "  \n",
    "  String getName() {\n",
    "    return name;\n",
    "  }\n",
    "\n",
    "  Optional getNickname() {\n",
    "    return new Optional(this.nickname);\n",
    "  }\n",
    "\n",
    "  Optional getMaxSpeed() {\n",
    "    return new Optional(this.maxSpeed);\n",
    "  }\n",
    "\n",
    "}"
   ]
  },
  {
   "cell_type": "code",
   "execution_count": 7,
   "metadata": {
    "collapsed": false
   },
   "outputs": [
    {
     "name": "stdout",
     "output_type": "stream",
     "text": [
      "VW\n",
      "fly\n"
     ]
    }
   ],
   "source": [
    "Car c = new Car(\"VW\");\n",
    "System.out.println(c.getNickname().orElse(c.getName()));\n",
    "c.setNickname(\"fly\");\n",
    "System.out.println(c.getNickname().orElse(c.getName()));"
   ]
  },
  {
   "cell_type": "code",
   "execution_count": 8,
   "metadata": {
    "collapsed": false
   },
   "outputs": [
    {
     "ename": "EvalException",
     "evalue": "java.base/java.lang.Integer cannot be cast to java.base/java.lang.String",
     "output_type": "error",
     "traceback": [
      "\u001b[1m\u001b[31m---------------------------------------------------------------------------\u001b[0m",
      "\u001b[1m\u001b[31mjava.lang.ClassCastException: java.base/java.lang.Integer cannot be cast to java.base/java.lang.String\u001b[0m",
      "\u001b[1m\u001b[31m\tat .(#26:1)\u001b[0m"
     ]
    }
   ],
   "source": [
    "c.setMaxSpeed(100);\n",
    "String nick = (String) c.getNickname().get();\n",
    "String maxSpeed = (String) c.getMaxSpeed().get();"
   ]
  },
  {
   "cell_type": "code",
   "execution_count": 9,
   "metadata": {
    "collapsed": false
   },
   "outputs": [
    {
     "name": "stdout",
     "output_type": "stream",
     "text": [
      "fly\n",
      "null\n"
     ]
    }
   ],
   "source": [
    "System.out.println(nick);\n",
    "System.out.println(maxSpeed);"
   ]
  },
  {
   "cell_type": "markdown",
   "metadata": {},
   "source": [
    "### Generic Optional"
   ]
  },
  {
   "cell_type": "code",
   "execution_count": 10,
   "metadata": {
    "collapsed": true
   },
   "outputs": [],
   "source": [
    "class Optional<T> {\n",
    "\n",
    "  private final T value;\n",
    "\n",
    "  public Optional(T value) {\n",
    "    this.value = value;\n",
    "  }\n",
    "  \n",
    "  T get() { \n",
    "    return this.value;\n",
    "  }\n",
    "\n",
    "  boolean isPresent() {\n",
    "    return this.value != null;\n",
    "  }\n",
    "  \n",
    "  T orElse(T value) {\n",
    "    return isPresent() ? this.value : value;\n",
    "  }\n",
    "\n",
    "}"
   ]
  },
  {
   "cell_type": "code",
   "execution_count": 11,
   "metadata": {
    "collapsed": true
   },
   "outputs": [],
   "source": [
    "class Car {\n",
    "\n",
    "  private final String name;\n",
    "  private String nickname;\n",
    "  private Integer maxSpeed;\n",
    "\n",
    "  Car(String name) {\n",
    "    this.name = name;\n",
    "  }\n",
    "  \n",
    "  void setMaxSpeed(int maxSpeed) {\n",
    "    this.maxSpeed = maxSpeed;\n",
    "  }\n",
    "  \n",
    "  void setNickname(String nickname) {\n",
    "    this.nickname = nickname;\n",
    "  }\n",
    "  \n",
    "  String getName() {\n",
    "    return name;\n",
    "  }\n",
    "\n",
    "  Optional<String> getNickname() {\n",
    "    return new Optional<>(this.nickname);\n",
    "  }\n",
    "\n",
    "  Optional<Integer> getMaxSpeed() {\n",
    "    return new Optional<>(this.maxSpeed);\n",
    "  }\n",
    "\n",
    "}"
   ]
  },
  {
   "cell_type": "code",
   "execution_count": 12,
   "metadata": {
    "collapsed": false
   },
   "outputs": [],
   "source": [
    "Car c = new Car(\"VW\");\n",
    "c.setNickname(\"fly\");\n",
    "c.setMaxSpeed(100);"
   ]
  },
  {
   "cell_type": "code",
   "execution_count": 13,
   "metadata": {
    "collapsed": false
   },
   "outputs": [
    {
     "name": "stdout",
     "output_type": "stream",
     "text": [
      "fly\n"
     ]
    }
   ],
   "source": [
    "String nick = c.getNickname().orElse(c.getName());\n",
    "System.out.println(nick);"
   ]
  },
  {
   "cell_type": "code",
   "execution_count": 14,
   "metadata": {
    "collapsed": false
   },
   "outputs": [
    {
     "name": "stdout",
     "output_type": "stream",
     "text": [
      "100\n"
     ]
    }
   ],
   "source": [
    "Integer maxSpeed = c.getMaxSpeed().get();\n",
    "System.out.println(maxSpeed);"
   ]
  },
  {
   "cell_type": "markdown",
   "metadata": {
    "collapsed": true
   },
   "source": [
    "### Generics examples"
   ]
  },
  {
   "cell_type": "code",
   "execution_count": 15,
   "metadata": {
    "collapsed": false
   },
   "outputs": [],
   "source": [
    "<T> void printThis(T o) {\n",
    "  System.out.println(o);\n",
    "}"
   ]
  },
  {
   "cell_type": "code",
   "execution_count": 16,
   "metadata": {
    "collapsed": false
   },
   "outputs": [
    {
     "name": "stdout",
     "output_type": "stream",
     "text": [
      "1.0\n",
      "Labas\n"
     ]
    }
   ],
   "source": [
    "printThis(1f);\n",
    "printThis(\"Labas\");"
   ]
  },
  {
   "cell_type": "code",
   "execution_count": 17,
   "metadata": {
    "collapsed": true
   },
   "outputs": [],
   "source": [
    "<T extends Number> void printThis(T o) {\n",
    "  System.out.println(o);\n",
    "}"
   ]
  },
  {
   "cell_type": "code",
   "execution_count": 18,
   "metadata": {
    "collapsed": false
   },
   "outputs": [
    {
     "name": "stdout",
     "output_type": "stream",
     "text": [
      "1.0\n"
     ]
    },
    {
     "ename": "CompilationException",
     "evalue": "",
     "output_type": "error",
     "traceback": [
      "\u001b[1m\u001b[30m|   \u001b[1m\u001b[30m\u001b[0m\u001b[1m\u001b[30m\u001b[41mprintThis\u001b[0m\u001b[1m\u001b[30m(\"Labas\");\u001b[0m",
      "\u001b[1m\u001b[31mmethod printThis in class  cannot be applied to given types;\u001b[0m",
      "\u001b[1m\u001b[31m  required: T\u001b[0m",
      "\u001b[1m\u001b[31m  found: java.lang.String\u001b[0m",
      "\u001b[1m\u001b[31m  reason: inference variable T has incompatible bounds\u001b[0m",
      "\u001b[1m\u001b[31m    upper bounds: java.lang.Number\u001b[0m",
      "\u001b[1m\u001b[31m    lower bounds: java.lang.String\u001b[0m",
      ""
     ]
    }
   ],
   "source": [
    "printThis(1f);\n",
    "printThis(\"Labas\");"
   ]
  },
  {
   "cell_type": "code",
   "execution_count": 19,
   "metadata": {
    "collapsed": true
   },
   "outputs": [],
   "source": [
    "List<Number> numbers = new ArrayList<>();"
   ]
  },
  {
   "cell_type": "code",
   "execution_count": 20,
   "metadata": {
    "collapsed": false
   },
   "outputs": [
    {
     "data": {
      "text/plain": [
       "true"
      ]
     },
     "execution_count": 20,
     "metadata": {},
     "output_type": "execute_result"
    }
   ],
   "source": [
    "numbers.add(1);\n",
    "numbers.add(100);\n",
    "numbers.add(1f);\n",
    "numbers.add(1d);"
   ]
  },
  {
   "cell_type": "code",
   "execution_count": 21,
   "metadata": {
    "collapsed": false
   },
   "outputs": [
    {
     "name": "stdout",
     "output_type": "stream",
     "text": [
      "1\n",
      "100\n",
      "1.0\n",
      "1.0\n"
     ]
    }
   ],
   "source": [
    "for (Number n: numbers) {\n",
    "  printThis(n);\n",
    "}"
   ]
  },
  {
   "cell_type": "code",
   "execution_count": null,
   "metadata": {
    "collapsed": true
   },
   "outputs": [],
   "source": []
  }
 ],
 "metadata": {
  "kernelspec": {
   "display_name": "Java",
   "language": "java",
   "name": "java"
  },
  "language_info": {
   "codemirror_mode": "java",
   "file_extension": ".java",
   "mimetype": "text/x-java-source",
   "name": "Java",
   "pygments_lexer": "java",
   "version": "9.0.4+11"
  }
 },
 "nbformat": 4,
 "nbformat_minor": 2
}
