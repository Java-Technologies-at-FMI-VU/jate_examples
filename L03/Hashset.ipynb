{
 "cells": [
  {
   "cell_type": "code",
   "execution_count": 1,
   "metadata": {
    "collapsed": true
   },
   "outputs": [],
   "source": [
    "class Name {\n",
    "\n",
    "    public String name;\n",
    "\n",
    "    Name(String name) {\n",
    "        this.name = name;\n",
    "    }\n",
    "    \n",
    "    @Override\n",
    "    public boolean equals(Object o) {\n",
    "        if (o instanceof Name) {\n",
    "            return ((Name) o).name.equals(name);\n",
    "        }\n",
    "        return false;\n",
    "    }\n",
    "\n",
    "    @Override\n",
    "    public int hashCode() {\n",
    "        return name.hashCode();\n",
    "    }\n",
    "    \n",
    "}"
   ]
  },
  {
   "cell_type": "code",
   "execution_count": 2,
   "metadata": {
    "collapsed": false
   },
   "outputs": [],
   "source": [
    "Name jonas = new Name(\"Jonas\");\n",
    "Set<Name> names = new HashSet<>();"
   ]
  },
  {
   "cell_type": "code",
   "execution_count": 3,
   "metadata": {
    "collapsed": false
   },
   "outputs": [
    {
     "data": {
      "text/plain": [
       "false"
      ]
     },
     "execution_count": 3,
     "metadata": {},
     "output_type": "execute_result"
    }
   ],
   "source": [
    "names.add(jonas);\n",
    "names.add(jonas);"
   ]
  },
  {
   "cell_type": "code",
   "execution_count": 4,
   "metadata": {
    "collapsed": false
   },
   "outputs": [
    {
     "name": "stdout",
     "output_type": "stream",
     "text": [
      "Size: 1\n",
      "Contains 'Jonas': true\n"
     ]
    }
   ],
   "source": [
    "printf(\"Size: %d%n\", names.size());\n",
    "printf(\"Contains 'Jonas': %s%n\", names.contains(new Name(\"Jonas\")));"
   ]
  },
  {
   "cell_type": "code",
   "execution_count": 5,
   "metadata": {
    "collapsed": false
   },
   "outputs": [
    {
     "data": {
      "text/plain": [
       "true"
      ]
     },
     "execution_count": 5,
     "metadata": {},
     "output_type": "execute_result"
    }
   ],
   "source": [
    "jonas.name = \"Jonelis\";\n",
    "names.add(jonas);"
   ]
  },
  {
   "cell_type": "code",
   "execution_count": 6,
   "metadata": {
    "collapsed": false
   },
   "outputs": [
    {
     "name": "stdout",
     "output_type": "stream",
     "text": [
      "Size: 2\n",
      "Contains 'Jonas': false\n",
      "Contains 'Jonelis': true\n"
     ]
    },
    {
     "data": {
      "text/plain": [
       "java.io.PrintStream@57e1b0c"
      ]
     },
     "execution_count": 6,
     "metadata": {},
     "output_type": "execute_result"
    }
   ],
   "source": [
    "System.out.format(\"Size: %d%n\", names.size());\n",
    "System.out.format(\"Contains 'Jonas': %s%n\", names.contains(new Name(\"Jonas\")));\n",
    "System.out.format(\"Contains 'Jonelis': %s%n\", names.contains(new Name(\"Jonelis\")));"
   ]
  },
  {
   "cell_type": "code",
   "execution_count": 7,
   "metadata": {
    "collapsed": false
   },
   "outputs": [
    {
     "name": "stdout",
     "output_type": "stream",
     "text": [
      "Name: Jonelis, 238334778\n",
      "Name: Jonelis, 238334778\n"
     ]
    }
   ],
   "source": [
    "for (Name name: names) {\n",
    "    System.out.format(\"Name: %s, %d%n\", name.name, name.hashCode());\n",
    "}"
   ]
  },
  {
   "cell_type": "code",
   "execution_count": null,
   "metadata": {
    "collapsed": true
   },
   "outputs": [],
   "source": []
  }
 ],
 "metadata": {
  "kernelspec": {
   "display_name": "Java",
   "language": "java",
   "name": "java"
  },
  "language_info": {
   "codemirror_mode": "java",
   "file_extension": ".java",
   "mimetype": "text/x-java-source",
   "name": "Java",
   "pygments_lexer": "java",
   "version": "9.0.4+11"
  }
 },
 "nbformat": 4,
 "nbformat_minor": 0
}
