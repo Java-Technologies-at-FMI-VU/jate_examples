{
 "cells": [
  {
   "cell_type": "code",
   "execution_count": 1,
   "metadata": {
    "collapsed": true
   },
   "outputs": [],
   "source": [
    "interface Device {\n",
    "\n",
    "    public String getName();\n",
    "    \n",
    "}"
   ]
  },
  {
   "cell_type": "code",
   "execution_count": 2,
   "metadata": {
    "collapsed": false
   },
   "outputs": [],
   "source": [
    "interface Engineer {\n",
    "    \n",
    "    boolean fix(Device device);\n",
    "    \n",
    "}"
   ]
  },
  {
   "cell_type": "code",
   "execution_count": 3,
   "metadata": {
    "collapsed": false
   },
   "outputs": [],
   "source": [
    "import java.util.Random;\n",
    "\n",
    "interface FixableDevice extends Device {\n",
    "\n",
    "    default boolean fix(Engineer e) {\n",
    "        return e.fix(this);\n",
    "    }\n",
    "    \n",
    "    private int testVoltage() { return new Random().nextInt(24); }\n",
    "    \n",
    "}"
   ]
  },
  {
   "cell_type": "code",
   "execution_count": 4,
   "metadata": {
    "collapsed": true
   },
   "outputs": [],
   "source": [
    "public abstract class Car implements FixableDevice {\n",
    "\n",
    "    private final String name;\n",
    "\n",
    "    public Car(String name) {\n",
    "        this.name = name;\n",
    "    }\n",
    "\n",
    "    public abstract void drive();\n",
    "\n",
    "    @Override\n",
    "    public String getName() {\n",
    "        return name;\n",
    "    }\n",
    "    \n",
    "}"
   ]
  },
  {
   "cell_type": "code",
   "execution_count": 5,
   "metadata": {
    "collapsed": true
   },
   "outputs": [],
   "source": [
    "public class SportsCar extends Car {\n",
    "\n",
    "    public SportsCar(String name) {\n",
    "        super(name);\n",
    "    }\n",
    "\n",
    "    @Override\n",
    "    public void drive() {\n",
    "        System.out.println(\"WRUMMM\");\n",
    "    }\n",
    "\n",
    "}"
   ]
  },
  {
   "cell_type": "code",
   "execution_count": 6,
   "metadata": {
    "collapsed": false
   },
   "outputs": [],
   "source": [
    "public class FamilyCar extends Car {\n",
    "\n",
    "    public FamilyCar(String name) {\n",
    "        super(name);\n",
    "    }\n",
    "\n",
    "    @Override\n",
    "    public void drive() {\n",
    "        System.out.println(\"Bzzz\");\n",
    "    }\n",
    "\n",
    "    public boolean fix(Engineer e) {\n",
    "        e.fix(this);\n",
    "        return true;\n",
    "    }\n",
    "    \n",
    "}"
   ]
  },
  {
   "cell_type": "code",
   "execution_count": 7,
   "metadata": {
    "collapsed": true
   },
   "outputs": [],
   "source": [
    "public class OffroadCar extends Car {\n",
    "\n",
    "    public OffroadCar(String name) {\n",
    "        super(name);\n",
    "    }\n",
    "\n",
    "    @Override\n",
    "    public void drive() {\n",
    "        System.out.println(\"BR-BR-BR\");\n",
    "    }\n",
    "\n",
    "}"
   ]
  },
  {
   "cell_type": "code",
   "execution_count": 8,
   "metadata": {
    "collapsed": true
   },
   "outputs": [],
   "source": [
    "Car[] cars = new Car[] {\n",
    "    new SportsCar(\"Ferrari\"),\n",
    "    new OffroadCar(\"Land Rover\"),\n",
    "    new FamilyCar(\"Toyota\")\n",
    "};"
   ]
  },
  {
   "cell_type": "code",
   "execution_count": 9,
   "metadata": {
    "collapsed": false
   },
   "outputs": [
    {
     "name": "stdout",
     "output_type": "stream",
     "text": [
      "WRUMMM\n",
      "BR-BR-BR\n",
      "Bzzz\n"
     ]
    }
   ],
   "source": [
    "for (Car c: cars) {\n",
    "    c.drive();\n",
    "}"
   ]
  },
  {
   "cell_type": "code",
   "execution_count": 10,
   "metadata": {
    "collapsed": true
   },
   "outputs": [],
   "source": [
    "Engineer justFerrari = new Engineer() {\n",
    "    public boolean fix(Device device) {\n",
    "        return device.getName().equalsIgnoreCase(\"Ferrari\");\n",
    "    }\n",
    "};"
   ]
  },
  {
   "cell_type": "code",
   "execution_count": 11,
   "metadata": {
    "collapsed": false
   },
   "outputs": [
    {
     "name": "stdout",
     "output_type": "stream",
     "text": [
      "Ferrari fixed: true\n",
      "Land Rover fixed: false\n",
      "Toyota fixed: true\n"
     ]
    }
   ],
   "source": [
    "for (Car c: cars) {\n",
    "    System.out.println(c.getName() + \" fixed: \" + c.fix(justFerrari));\n",
    "}"
   ]
  },
  {
   "cell_type": "code",
   "execution_count": null,
   "metadata": {
    "collapsed": true
   },
   "outputs": [],
   "source": []
  }
 ],
 "metadata": {
  "kernelspec": {
   "display_name": "Java",
   "language": "java",
   "name": "java"
  },
  "language_info": {
   "codemirror_mode": "java",
   "file_extension": ".java",
   "mimetype": "text/x-java-source",
   "name": "Java",
   "pygments_lexer": "java",
   "version": "9.0.4+11"
  }
 },
 "nbformat": 4,
 "nbformat_minor": 2
}
