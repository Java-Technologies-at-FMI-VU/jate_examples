{
 "cells": [
  {
   "cell_type": "markdown",
   "metadata": {},
   "source": [
    "### Static members"
   ]
  },
  {
   "cell_type": "code",
   "execution_count": 1,
   "metadata": {
    "collapsed": true
   },
   "outputs": [],
   "source": [
    "public class Car {\n",
    "\n",
    "    private static int MAX_SPEED = 250;\n",
    "    \n",
    "    private final String make;\n",
    "    private int speed = 0;\n",
    "    \n",
    "    public Car(String make) {\n",
    "        this.make = make;\n",
    "    }\n",
    "\n",
    "    public void setSpeed(int speed) {\n",
    "        this.speed = speed > MAX_SPEED ? MAX_SPEED : speed;\n",
    "    }\n",
    "\n",
    "    public String getMake() { return make; }\n",
    "    \n",
    "    public int getSpeed() { return speed; }\n",
    "\n",
    "    public void info() {\n",
    "        System.out.println(make + \" car speed is \" + speed + \" km/h\");\n",
    "    }\n",
    "    \n",
    "}"
   ]
  },
  {
   "cell_type": "code",
   "execution_count": 2,
   "metadata": {
    "collapsed": false
   },
   "outputs": [
    {
     "name": "stdout",
     "output_type": "stream",
     "text": [
      "Audi car speed is 100 km/h\n"
     ]
    }
   ],
   "source": [
    "Car audi = new Car(\"Audi\");\n",
    "audi.setSpeed(100);\n",
    "audi.info();"
   ]
  },
  {
   "cell_type": "code",
   "execution_count": 3,
   "metadata": {
    "collapsed": false
   },
   "outputs": [
    {
     "name": "stdout",
     "output_type": "stream",
     "text": [
      "Audi car speed is 200 km/h\n"
     ]
    }
   ],
   "source": [
    "audi.setSpeed(200);\n",
    "audi.info();"
   ]
  },
  {
   "cell_type": "code",
   "execution_count": 4,
   "metadata": {
    "collapsed": false
   },
   "outputs": [
    {
     "name": "stdout",
     "output_type": "stream",
     "text": [
      "Audi car speed is 250 km/h\n"
     ]
    }
   ],
   "source": [
    "audi.setSpeed(300);\n",
    "audi.info();"
   ]
  },
  {
   "cell_type": "markdown",
   "metadata": {},
   "source": [
    "### Static methods"
   ]
  },
  {
   "cell_type": "code",
   "execution_count": 5,
   "metadata": {
    "collapsed": true
   },
   "outputs": [],
   "source": [
    "public class Car {\n",
    "\n",
    "    private static int MAX_SPEED = 250;\n",
    "    \n",
    "    private final String make;\n",
    "    private int speed = 0;\n",
    "    \n",
    "    public Car(String make) {\n",
    "        this.make = make;\n",
    "    }\n",
    "\n",
    "    public void setSpeed(int speed) {\n",
    "        this.speed = speed > MAX_SPEED ? MAX_SPEED : speed;\n",
    "    }\n",
    "\n",
    "    public String getMake() { return make; }\n",
    "    \n",
    "    public int getSpeed() { return speed; }\n",
    "\n",
    "    public void info() {\n",
    "        System.out.println(make + \" car speed is \" + speed + \" km/h\");\n",
    "    }\n",
    "    \n",
    "    public static Car diyCar() {\n",
    "        return new Car(\"DIY\");\n",
    "    }\n",
    "    \n",
    "    public static void setMaxSpeed(Car c) {\n",
    "        c.setSpeed(MAX_SPEED);\n",
    "    }\n",
    "    \n",
    "}"
   ]
  },
  {
   "cell_type": "code",
   "execution_count": 6,
   "metadata": {
    "collapsed": true
   },
   "outputs": [],
   "source": [
    "Car d = Car.diyCar();"
   ]
  },
  {
   "cell_type": "code",
   "execution_count": 7,
   "metadata": {
    "collapsed": false
   },
   "outputs": [
    {
     "name": "stdout",
     "output_type": "stream",
     "text": [
      "DIY car speed is 0 km/h\n"
     ]
    }
   ],
   "source": [
    "d.info();"
   ]
  },
  {
   "cell_type": "code",
   "execution_count": 8,
   "metadata": {
    "collapsed": true
   },
   "outputs": [],
   "source": [
    "Car.setMaxSpeed(d);"
   ]
  },
  {
   "cell_type": "code",
   "execution_count": 9,
   "metadata": {
    "collapsed": false
   },
   "outputs": [
    {
     "name": "stdout",
     "output_type": "stream",
     "text": [
      "DIY car speed is 250 km/h\n"
     ]
    }
   ],
   "source": [
    "d.info();"
   ]
  },
  {
   "cell_type": "markdown",
   "metadata": {},
   "source": [
    "### Static block"
   ]
  },
  {
   "cell_type": "code",
   "execution_count": 10,
   "metadata": {
    "collapsed": false
   },
   "outputs": [],
   "source": [
    "import java.util.Random;\n",
    "\n",
    "public class Car {\n",
    "\n",
    "    private static int MAX_SPEED_NOMINAL = 250;\n",
    "    private static int MAX_SPEED_SPREAD = 10;\n",
    "\n",
    "    static {\n",
    "        int delta = new Random().nextInt(MAX_SPEED_SPREAD * 2);\n",
    "        MAX_SPEED = MAX_SPEED_NOMINAL - MAX_SPEED_SPREAD + delta;\n",
    "    }\n",
    "\n",
    "    private static int MAX_SPEED;\n",
    "    \n",
    "    private final String make;\n",
    "    private int speed = 0;\n",
    "\n",
    "    public Car(String make) {\n",
    "        this.make = make;\n",
    "    }\n",
    "\n",
    "    public void setSpeed(int speed) {\n",
    "        this.speed = speed > MAX_SPEED ? MAX_SPEED : speed;\n",
    "    }\n",
    "\n",
    "    public String getMake() { return make; }\n",
    "    \n",
    "    public int getSpeed() { return speed; }\n",
    "\n",
    "    public void info() {\n",
    "        System.out.println(make + \" car speed is \" + speed + \" km/h\");\n",
    "    }\n",
    "    \n",
    "    public static Car diyCar() {\n",
    "        return new Car(\"DIY\");\n",
    "    }\n",
    "    \n",
    "    public static void setMaxSpeed(Car c) {\n",
    "        c.setSpeed(MAX_SPEED);\n",
    "    }\n",
    "    \n",
    "}"
   ]
  },
  {
   "cell_type": "code",
   "execution_count": 11,
   "metadata": {
    "collapsed": true
   },
   "outputs": [],
   "source": [
    "Car d = Car.diyCar();"
   ]
  },
  {
   "cell_type": "code",
   "execution_count": 12,
   "metadata": {
    "collapsed": true
   },
   "outputs": [],
   "source": [
    "Car.setMaxSpeed(d);"
   ]
  },
  {
   "cell_type": "code",
   "execution_count": 13,
   "metadata": {
    "collapsed": false
   },
   "outputs": [
    {
     "name": "stdout",
     "output_type": "stream",
     "text": [
      "DIY car speed is 244 km/h\n"
     ]
    }
   ],
   "source": [
    "d.info();"
   ]
  },
  {
   "cell_type": "code",
   "execution_count": 14,
   "metadata": {
    "collapsed": false
   },
   "outputs": [
    {
     "name": "stdout",
     "output_type": "stream",
     "text": [
      "Audi car speed is 244 km/h\n"
     ]
    }
   ],
   "source": [
    "Car a = new Car(\"Audi\");\n",
    "Car.setMaxSpeed(a);\n",
    "a.info();"
   ]
  },
  {
   "cell_type": "code",
   "execution_count": null,
   "metadata": {
    "collapsed": true
   },
   "outputs": [],
   "source": []
  }
 ],
 "metadata": {
  "kernelspec": {
   "display_name": "Java",
   "language": "java",
   "name": "java"
  },
  "language_info": {
   "codemirror_mode": "java",
   "file_extension": ".java",
   "mimetype": "text/x-java-source",
   "name": "Java",
   "pygments_lexer": "java",
   "version": "9.0.4+11"
  }
 },
 "nbformat": 4,
 "nbformat_minor": 2
}
