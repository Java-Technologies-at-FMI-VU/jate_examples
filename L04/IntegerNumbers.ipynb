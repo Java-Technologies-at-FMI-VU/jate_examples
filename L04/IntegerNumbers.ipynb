{
 "cells": [
  {
   "cell_type": "code",
   "execution_count": 1,
   "metadata": {
    "collapsed": true
   },
   "outputs": [],
   "source": [
    "void print(Object o) {\n",
    "    System.out.println(o);\n",
    "}\n",
    "\n",
    "String toBinaryString(int i) {\n",
    "    return String.format(\"%032d\", new BigInteger(Integer.toBinaryString(i)));\n",
    "}"
   ]
  },
  {
   "cell_type": "code",
   "execution_count": 2,
   "metadata": {
    "collapsed": false
   },
   "outputs": [
    {
     "name": "stdout",
     "output_type": "stream",
     "text": [
      "00000000000000000000000000000000\n",
      "00000000000000000000000000000001\n",
      "00000000000000000000000000000010\n",
      "00000000000000000000000000001010\n",
      "00000000000000000000000000010100\n",
      "01111111111111111111111111111111\n"
     ]
    }
   ],
   "source": [
    "print(toBinaryString(0));\n",
    "print(toBinaryString(1));\n",
    "print(toBinaryString(2));\n",
    "print(toBinaryString(10));\n",
    "print(toBinaryString(20));\n",
    "print(toBinaryString(Integer.MAX_VALUE));"
   ]
  },
  {
   "cell_type": "code",
   "execution_count": 3,
   "metadata": {
    "collapsed": false
   },
   "outputs": [
    {
     "name": "stdout",
     "output_type": "stream",
     "text": [
      "00000000000000000000000000000000\n",
      "11111111111111111111111111111111\n",
      "11111111111111111111111111111110\n",
      "11111111111111111111111111101100\n",
      "10000000000000000000000000000010\n",
      "10000000000000000000000000000001\n",
      "10000000000000000000000000000000\n"
     ]
    }
   ],
   "source": [
    "print(toBinaryString(-0));\n",
    "print(toBinaryString(-1));\n",
    "print(toBinaryString(-2));\n",
    "print(toBinaryString(-20));\n",
    "print(toBinaryString(Integer.MIN_VALUE + 2));\n",
    "print(toBinaryString(Integer.MIN_VALUE + 1));\n",
    "print(toBinaryString(Integer.MIN_VALUE));"
   ]
  },
  {
   "cell_type": "code",
   "execution_count": 4,
   "metadata": {
    "collapsed": false
   },
   "outputs": [
    {
     "name": "stdout",
     "output_type": "stream",
     "text": [
      "01111111111111111111111111111111\n",
      "00011111111111111111111111111111\n",
      "00000000000000000000000000000001\n",
      "00000000000000000000000000000000\n",
      "01111111111111111111111111111111\n",
      "10000000000000000000000000000000\n"
     ]
    }
   ],
   "source": [
    "print(toBinaryString(Integer.MAX_VALUE));\n",
    "print(toBinaryString(Integer.MAX_VALUE >> 2));\n",
    "print(toBinaryString(Integer.MAX_VALUE >> 30));\n",
    "print(toBinaryString(Integer.MAX_VALUE >> 31));\n",
    "print(toBinaryString(Integer.MAX_VALUE >> 32));\n",
    "print(toBinaryString(Integer.MIN_VALUE));"
   ]
  },
  {
   "cell_type": "code",
   "execution_count": 5,
   "metadata": {
    "collapsed": false
   },
   "outputs": [
    {
     "name": "stdout",
     "output_type": "stream",
     "text": [
      "0. 02147483643 01111111111111111111111111111011\n",
      "1. 02147483644 01111111111111111111111111111100\n",
      "2. 02147483645 01111111111111111111111111111101\n",
      "3. 02147483646 01111111111111111111111111111110\n",
      "4. 02147483647 01111111111111111111111111111111\n",
      "5. -2147483648 10000000000000000000000000000000\n",
      "6. -2147483647 10000000000000000000000000000001\n",
      "7. -2147483646 10000000000000000000000000000010\n",
      "8. -2147483645 10000000000000000000000000000011\n",
      "9. -2147483644 10000000000000000000000000000100\n"
     ]
    }
   ],
   "source": [
    "int data = Integer.MAX_VALUE - 5;\n",
    "for (int j = 0; j < 10; j++) {\n",
    "    printf(\"%d. %011d %s%n\", j, ++data, toBinaryString(data));\n",
    "}"
   ]
  },
  {
   "cell_type": "code",
   "execution_count": 6,
   "metadata": {
    "collapsed": false
   },
   "outputs": [
    {
     "name": "stdout",
     "output_type": "stream",
     "text": [
      "0. -2147483644 10000000000000000000000000000100\n",
      "1. -2147483645 10000000000000000000000000000011\n",
      "2. -2147483646 10000000000000000000000000000010\n",
      "3. -2147483647 10000000000000000000000000000001\n",
      "4. -2147483648 10000000000000000000000000000000\n",
      "5. 02147483647 01111111111111111111111111111111\n",
      "6. 02147483646 01111111111111111111111111111110\n",
      "7. 02147483645 01111111111111111111111111111101\n",
      "8. 02147483644 01111111111111111111111111111100\n",
      "9. 02147483643 01111111111111111111111111111011\n"
     ]
    }
   ],
   "source": [
    "int data = Integer.MIN_VALUE + 5;\n",
    "for (int j = 0; j < 10; j++) {\n",
    "    printf(\"%d. %011d %s%n\", j, --data, toBinaryString(data));\n",
    "}"
   ]
  },
  {
   "cell_type": "code",
   "execution_count": 7,
   "metadata": {
    "collapsed": false
   },
   "outputs": [
    {
     "name": "stdout",
     "output_type": "stream",
     "text": [
      "Math.abs(-123) = 123\n",
      "Integer.MIN_VALUE = -2147483648\n",
      "Math.abs(Integer.MIN_VALUE) = -2147483648\n"
     ]
    }
   ],
   "source": [
    "print(\"Math.abs(-123) = \" + Math.abs(-123));\n",
    "print(\"Integer.MIN_VALUE = \" + Integer.MIN_VALUE);\n",
    "print(\"Math.abs(Integer.MIN_VALUE) = \" + Math.abs(Integer.MIN_VALUE));"
   ]
  },
  {
   "cell_type": "code",
   "execution_count": 8,
   "metadata": {
    "collapsed": false
   },
   "outputs": [
    {
     "data": {
      "text/plain": [
       "true"
      ]
     },
     "execution_count": 8,
     "metadata": {},
     "output_type": "execute_result"
    }
   ],
   "source": [
    "Integer.MIN_VALUE == Math.abs(Integer.MIN_VALUE);"
   ]
  },
  {
   "cell_type": "code",
   "execution_count": 9,
   "metadata": {
    "collapsed": false
   },
   "outputs": [
    {
     "name": "stdout",
     "output_type": "stream",
     "text": [
      "2147483647\n",
      "-2147483648\n"
     ]
    }
   ],
   "source": [
    "print(Integer.MAX_VALUE);\n",
    "print(Integer.MAX_VALUE + 1);"
   ]
  },
  {
   "cell_type": "code",
   "execution_count": 10,
   "metadata": {
    "collapsed": false
   },
   "outputs": [
    {
     "name": "stdout",
     "output_type": "stream",
     "text": [
      "0\n"
     ]
    }
   ],
   "source": [
    "print(1 / 3);"
   ]
  },
  {
   "cell_type": "code",
   "execution_count": 11,
   "metadata": {
    "collapsed": false
   },
   "outputs": [
    {
     "name": "stdout",
     "output_type": "stream",
     "text": [
      "5\n"
     ]
    }
   ],
   "source": [
    "long MILIS_PER_DAY = 24 * 60 * 60 * 1000;\n",
    "long MICROS_PER_DAY = 24 * 60 * 60 * 1000 * 1000;\n",
    "\n",
    "print(MICROS_PER_DAY / MILIS_PER_DAY);"
   ]
  },
  {
   "cell_type": "code",
   "execution_count": 12,
   "metadata": {
    "collapsed": false
   },
   "outputs": [
    {
     "name": "stdout",
     "output_type": "stream",
     "text": [
      "12345 + 54321 = 17777\n"
     ]
    }
   ],
   "source": [
    "print(\"12345 + 54321 = \" + (12345 + 5432l));"
   ]
  },
  {
   "cell_type": "code",
   "execution_count": null,
   "metadata": {
    "collapsed": true
   },
   "outputs": [],
   "source": []
  }
 ],
 "metadata": {
  "kernelspec": {
   "display_name": "Java",
   "language": "java",
   "name": "java"
  },
  "language_info": {
   "codemirror_mode": "java",
   "file_extension": ".java",
   "mimetype": "text/x-java-source",
   "name": "Java",
   "pygments_lexer": "java",
   "version": "9.0.4+11"
  }
 },
 "nbformat": 4,
 "nbformat_minor": 0
}
