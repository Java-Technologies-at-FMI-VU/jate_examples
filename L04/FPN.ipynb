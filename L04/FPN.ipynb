{
 "cells": [
  {
   "cell_type": "code",
   "execution_count": 1,
   "metadata": {
    "collapsed": false
   },
   "outputs": [],
   "source": [
    "void print(Object o) {\n",
    "    System.out.println(o);\n",
    "}\n",
    "\n",
    "String toBinaryString(int i) {\n",
    "    return String.format(\"%032d\", new BigInteger(Integer.toBinaryString(i)));\n",
    "}\n",
    "\n",
    "String toBinaryString(long l) {\n",
    "    return String.format(\"%064d\", new BigInteger(Long.toBinaryString(l)));\n",
    "}\n",
    "\n",
    "void printFloat(float f) {\n",
    "    print(toBinaryString(Float.floatToIntBits(f)).replaceAll(\"^(.)(.{8})(.*)$\", \"$1s $2e [1.]$3m\"));\n",
    "}\n",
    "\n",
    "void printDouble(double d) {\n",
    "    print(toBinaryString(Double.doubleToLongBits(d)).replaceAll(\"^(.)(.{11})(.*)$\", \"$1s $2e [1.]$3m\"));\n",
    "}"
   ]
  },
  {
   "cell_type": "markdown",
   "metadata": {},
   "source": [
    "IEEE 754 is a technical standard for floating point computation since 1985.\n",
    "### Floats\n",
    "In Java float numbers (32 bits) are described by three integers:\n",
    "\n",
    "*  `s` = a sign (zero or one); bit 31,\n",
    "*  `e` = exponent; bits 30-23,\n",
    "*  `m` = mantissa; bits 22-0.\n",
    "\n",
    "The numerical value of a finite number is \n",
    "\n",
    "$$ (−1)^s × m × 2^{(e-127)} $$"
   ]
  },
  {
   "cell_type": "code",
   "execution_count": 2,
   "metadata": {
    "collapsed": false
   },
   "outputs": [
    {
     "name": "stdout",
     "output_type": "stream",
     "text": [
      "20.18\n",
      "0s 10000011e [1.]01000010111000010100100m\n"
     ]
    }
   ],
   "source": [
    "float f = 20.18f;\n",
    "print(f);\n",
    "printFloat(f);"
   ]
  },
  {
   "cell_type": "code",
   "execution_count": 3,
   "metadata": {
    "collapsed": false
   },
   "outputs": [
    {
     "name": "stdout",
     "output_type": "stream",
     "text": [
      "-126,127\n"
     ]
    }
   ],
   "source": [
    "print(Float.MIN_EXPONENT + \",\" + Float.MAX_EXPONENT);"
   ]
  },
  {
   "cell_type": "code",
   "execution_count": 4,
   "metadata": {
    "collapsed": false
   },
   "outputs": [
    {
     "name": "stdout",
     "output_type": "stream",
     "text": [
      "0s 11111110e [1.]11111111111111111111111m\n",
      "0s 00000001e [1.]00000000000000000000000m\n",
      "0s 00000000e [1.]00000000000000000000001m\n"
     ]
    }
   ],
   "source": [
    "printFloat(Float.MAX_VALUE);\n",
    "printFloat(Float.MIN_NORMAL);\n",
    "printFloat(Float.MIN_VALUE);"
   ]
  },
  {
   "cell_type": "code",
   "execution_count": 5,
   "metadata": {
    "collapsed": false
   },
   "outputs": [
    {
     "name": "stdout",
     "output_type": "stream",
     "text": [
      "0s 10000000e [1.]00000000000000000000000m\n"
     ]
    }
   ],
   "source": [
    "float f = 2.f;\n",
    "printFloat(f);"
   ]
  },
  {
   "cell_type": "markdown",
   "metadata": {},
   "source": [
    "### Double\n",
    "In Java double numbers (64 bits) are described by three integers:\n",
    "\n",
    "*  `s` = a sign (zero or one); bit 63,\n",
    "*  `e` = exponent; bits 62-52,\n",
    "*  `m` = mantissa; bits 51-0.\n",
    "\n",
    "The numerical value of a finite number is \n",
    "\n",
    "$ (−1)^s × m × 2^{(e-127)} $"
   ]
  },
  {
   "cell_type": "code",
   "execution_count": 6,
   "metadata": {
    "collapsed": false
   },
   "outputs": [
    {
     "name": "stdout",
     "output_type": "stream",
     "text": [
      "20.18\n",
      "0s 10000000011e [1.]0100001011100001010001111010111000010100011110101110m\n"
     ]
    }
   ],
   "source": [
    "double d = 20.18d;\n",
    "print(d);\n",
    "printDouble(d);"
   ]
  },
  {
   "cell_type": "code",
   "execution_count": 7,
   "metadata": {
    "collapsed": false
   },
   "outputs": [
    {
     "name": "stdout",
     "output_type": "stream",
     "text": [
      "-1022,1023\n"
     ]
    }
   ],
   "source": [
    "print(Double.MIN_EXPONENT + \",\" + Double.MAX_EXPONENT);"
   ]
  },
  {
   "cell_type": "code",
   "execution_count": 8,
   "metadata": {
    "collapsed": false
   },
   "outputs": [
    {
     "name": "stdout",
     "output_type": "stream",
     "text": [
      "0s 11111111110e [1.]1111111111111111111111111111111111111111111111111111m\n",
      "0s 00000000001e [1.]0000000000000000000000000000000000000000000000000000m\n",
      "0s 00000000000e [1.]0000000000000000000000000000000000000000000000000001m\n"
     ]
    }
   ],
   "source": [
    "printDouble(Double.MAX_VALUE);\n",
    "printDouble(Double.MIN_NORMAL);\n",
    "printDouble(Double.MIN_VALUE);"
   ]
  },
  {
   "cell_type": "code",
   "execution_count": 9,
   "metadata": {
    "collapsed": false
   },
   "outputs": [
    {
     "name": "stdout",
     "output_type": "stream",
     "text": [
      "0s 01111111111e [1.]0000000000000000000000000000000000000000000000000000m\n"
     ]
    }
   ],
   "source": [
    "double d = 1.d;\n",
    "printDouble(d);"
   ]
  },
  {
   "cell_type": "markdown",
   "metadata": {},
   "source": [
    "### Decimal fractions\n",
    "\n",
    "$$f = 20.18$$\n",
    "$$f = 2*10^1+0*10^0+1*10^{-1}+8*10^{-2}$$\n",
    "\n",
    "### Binary fractions\n",
    "\n",
    "$$f = 101.101$$\n",
    "$$f = 1*2^{2}+0*2^{1}+1*2^{0}+1*2^{-1}+0*2^{-2}+1*2^{-3}$$"
   ]
  },
  {
   "cell_type": "code",
   "execution_count": 10,
   "metadata": {
    "collapsed": false
   },
   "outputs": [
    {
     "data": {
      "text/plain": [
       "20.18"
      ]
     },
     "execution_count": 10,
     "metadata": {},
     "output_type": "execute_result"
    }
   ],
   "source": [
    "float f = 0;\n",
    "f += 2 * Math.pow(10,1);\n",
    "f += 0 * Math.pow(10,0);\n",
    "f += 1 * Math.pow(10,-1);\n",
    "f += 8 * Math.pow(10,-2);"
   ]
  },
  {
   "cell_type": "code",
   "execution_count": 11,
   "metadata": {
    "collapsed": false
   },
   "outputs": [],
   "source": [
    "String intToBin(int i) {\n",
    "    String b = \"\";\n",
    "    while(i > 0) {\n",
    "        b = Math.floorMod(i, 2) + b;\n",
    "        i = i / 2;\n",
    "    }\n",
    "    return b;\n",
    "}\n",
    "\n",
    "String decToBin(int d, int pl) {\n",
    "    String b = \"\";\n",
    "    int l = (int)(Math.log10(d) + 1);\n",
    "    int e = (int) Math.pow(10, l);\n",
    "    for (int j = 0; j < pl; j++) {\n",
    "        d *= 2;\n",
    "        //printf(\"%0\" + (l + 1) + \"d%n\", d);\n",
    "        if (d >= e) {\n",
    "            b += \"1\";\n",
    "            d -= e;\n",
    "        } else {\n",
    "            b += \"0\";\n",
    "        }\n",
    "    }\n",
    "    return b;\n",
    "}"
   ]
  },
  {
   "cell_type": "code",
   "execution_count": 12,
   "metadata": {
    "collapsed": false
   },
   "outputs": [
    {
     "name": "stdout",
     "output_type": "stream",
     "text": [
      "20.18\n",
      "0s 10000011e [1.]01000010111000010100100m\n",
      "Sign: 0\n",
      "Value: 10100.0010111000010100011\n",
      "Mantissa: 01000010111000010100011\n"
     ]
    }
   ],
   "source": [
    "float f = 20.18f;\n",
    "print(f);\n",
    "printFloat(f);\n",
    "\n",
    "String s = f >= 0 ? \"0\" : \"1\";\n",
    "print(\"Sign: \" + s);\n",
    "\n",
    "// Converting integer part to binary\n",
    "String in = intToBin(20);\n",
    "\n",
    "// Converting decimal part to binary\n",
    "String dn = decToBin(18, 23 - in.length() + 1);\n",
    "print(\"Value: \" + in + \".\" + dn);\n",
    "\n",
    "String m = in + dn;\n",
    "m = m.substring(1);\n",
    "print(\"Mantissa: \" + m);"
   ]
  },
  {
   "cell_type": "code",
   "execution_count": 13,
   "metadata": {
    "collapsed": false
   },
   "outputs": [
    {
     "name": "stdout",
     "output_type": "stream",
     "text": [
      "10000011\n"
     ]
    }
   ],
   "source": [
    "String e = String.format(\"%08d\", Integer.parseInt(Integer.toBinaryString(4 + 127)));\n",
    "print(e);"
   ]
  },
  {
   "cell_type": "code",
   "execution_count": 14,
   "metadata": {
    "collapsed": false
   },
   "outputs": [
    {
     "name": "stdout",
     "output_type": "stream",
     "text": [
      "0s 10000011e [1.]01000010111000010100011m\n",
      "20.179998\n"
     ]
    }
   ],
   "source": [
    "float f1 = Float.intBitsToFloat(Integer.parseInt(s + e + m, 2));\n",
    "printFloat(f1);\n",
    "print(f1);"
   ]
  },
  {
   "cell_type": "markdown",
   "metadata": {},
   "source": [
    "### Special cases"
   ]
  },
  {
   "cell_type": "code",
   "execution_count": 15,
   "metadata": {
    "collapsed": false
   },
   "outputs": [
    {
     "name": "stdout",
     "output_type": "stream",
     "text": [
      "0s 11111111e [1.]00000000000000000000000m\n",
      "1s 11111111e [1.]00000000000000000000000m\n",
      "0s 11111111e [1.]10000000000000000000000m\n"
     ]
    }
   ],
   "source": [
    "printFloat(Float.POSITIVE_INFINITY);\n",
    "printFloat(Float.NEGATIVE_INFINITY);\n",
    "printFloat(Float.NaN);"
   ]
  },
  {
   "cell_type": "code",
   "execution_count": 16,
   "metadata": {
    "collapsed": false
   },
   "outputs": [
    {
     "name": "stdout",
     "output_type": "stream",
     "text": [
      "0s 11111111111e [1.]0000000000000000000000000000000000000000000000000000m\n",
      "1s 11111111111e [1.]0000000000000000000000000000000000000000000000000000m\n",
      "0s 11111111111e [1.]1000000000000000000000000000000000000000000000000000m\n"
     ]
    }
   ],
   "source": [
    "printDouble(Double.POSITIVE_INFINITY);\n",
    "printDouble(Double.NEGATIVE_INFINITY);\n",
    "printDouble(Double.NaN);"
   ]
  },
  {
   "cell_type": "code",
   "execution_count": 17,
   "metadata": {
    "collapsed": false
   },
   "outputs": [
    {
     "data": {
      "text/plain": [
       "Infinity"
      ]
     },
     "execution_count": 17,
     "metadata": {},
     "output_type": "execute_result"
    }
   ],
   "source": [
    "1./0."
   ]
  },
  {
   "cell_type": "code",
   "execution_count": 18,
   "metadata": {
    "collapsed": false
   },
   "outputs": [
    {
     "data": {
      "text/plain": [
       "-Infinity"
      ]
     },
     "execution_count": 18,
     "metadata": {},
     "output_type": "execute_result"
    }
   ],
   "source": [
    "-1./0."
   ]
  },
  {
   "cell_type": "code",
   "execution_count": 19,
   "metadata": {
    "collapsed": false
   },
   "outputs": [
    {
     "data": {
      "text/plain": [
       "NaN"
      ]
     },
     "execution_count": 19,
     "metadata": {},
     "output_type": "execute_result"
    }
   ],
   "source": [
    "Math.sqrt(-1.)"
   ]
  },
  {
   "cell_type": "code",
   "execution_count": 20,
   "metadata": {
    "collapsed": false
   },
   "outputs": [
    {
     "name": "stdout",
     "output_type": "stream",
     "text": [
      "0.0\n",
      "0s 00000000e [1.]00000000000000000000000m\n"
     ]
    }
   ],
   "source": [
    "print(0.f);\n",
    "printFloat(0.f);"
   ]
  },
  {
   "cell_type": "code",
   "execution_count": 21,
   "metadata": {
    "collapsed": false
   },
   "outputs": [
    {
     "name": "stdout",
     "output_type": "stream",
     "text": [
      "-0.0\n",
      "1s 00000000e [1.]00000000000000000000000m\n"
     ]
    }
   ],
   "source": [
    "print(-0.f);\n",
    "printFloat(-0.f);"
   ]
  },
  {
   "cell_type": "markdown",
   "metadata": {},
   "source": [
    "### Exceptions\n",
    "Some numbers can not be expressed exactly"
   ]
  },
  {
   "cell_type": "code",
   "execution_count": 22,
   "metadata": {
    "collapsed": false
   },
   "outputs": [
    {
     "data": {
      "text/plain": [
       "\"0001100110\""
      ]
     },
     "execution_count": 22,
     "metadata": {},
     "output_type": "execute_result"
    }
   ],
   "source": [
    "decToBin(1, 10)"
   ]
  },
  {
   "cell_type": "code",
   "execution_count": 23,
   "metadata": {
    "collapsed": false
   },
   "outputs": [
    {
     "data": {
      "text/plain": [
       "\"00011001100110011001\""
      ]
     },
     "execution_count": 23,
     "metadata": {},
     "output_type": "execute_result"
    }
   ],
   "source": [
    "decToBin(1, 20)"
   ]
  },
  {
   "cell_type": "code",
   "execution_count": 24,
   "metadata": {
    "collapsed": false
   },
   "outputs": [
    {
     "data": {
      "text/plain": [
       "\"00011001100110011001100110011001100110011001100110\""
      ]
     },
     "execution_count": 24,
     "metadata": {},
     "output_type": "execute_result"
    }
   ],
   "source": [
    "decToBin(1, 50)"
   ]
  },
  {
   "cell_type": "code",
   "execution_count": 25,
   "metadata": {
    "collapsed": false
   },
   "outputs": [
    {
     "data": {
      "text/plain": [
       "\"0001100110011001100110011001100110011001100110011001100110011001100110011001100110011001100110011001\""
      ]
     },
     "execution_count": 25,
     "metadata": {},
     "output_type": "execute_result"
    }
   ],
   "source": [
    "decToBin(1, 100)"
   ]
  },
  {
   "cell_type": "markdown",
   "metadata": {},
   "source": [
    "Calculating money in a wallet"
   ]
  },
  {
   "cell_type": "code",
   "execution_count": 26,
   "metadata": {
    "collapsed": false
   },
   "outputs": [
    {
     "name": "stdout",
     "output_type": "stream",
     "text": [
      "0.8999999999999999\n"
     ]
    }
   ],
   "source": [
    "double wallet = 2.0;\n",
    "double price = 1.1;\n",
    "wallet = wallet - price;\n",
    "print(wallet);"
   ]
  },
  {
   "cell_type": "code",
   "execution_count": 27,
   "metadata": {
    "collapsed": false
   },
   "outputs": [
    {
     "name": "stdout",
     "output_type": "stream",
     "text": [
      "Wallet: 0.90\n",
      "\n"
     ]
    }
   ],
   "source": [
    "print(String.format(\"Wallet: %.02f%n\", wallet));"
   ]
  },
  {
   "cell_type": "markdown",
   "metadata": {},
   "source": [
    "### Store class"
   ]
  },
  {
   "cell_type": "code",
   "execution_count": 28,
   "metadata": {
    "collapsed": false
   },
   "outputs": [],
   "source": [
    "class Store {\n",
    "\n",
    "    double account = 100.0d;\n",
    "    int items = 0;\n",
    "\n",
    "    void buy(int num, double price) {\n",
    "        for (int i = 0; i < num; i++) {\n",
    "            if (account < price) {\n",
    "                break;\n",
    "            }\n",
    "            items += 1;\n",
    "            account -= price;\n",
    "        }\n",
    "    }\n",
    "    \n",
    "    void sell(int num, double price) {\n",
    "        for (int i = 0; i < num; i++) {\n",
    "            if (items <= 0) {\n",
    "                break;\n",
    "            }\n",
    "            items -= 1;\n",
    "            account += price;\n",
    "        }\n",
    "    }    \n",
    "    \n",
    "    @Override\n",
    "    public String toString() {\n",
    "        return String.format(\"Store: items = %d, account = %f\", items, account);\n",
    "    } \n",
    "\n",
    "}"
   ]
  },
  {
   "cell_type": "code",
   "execution_count": 29,
   "metadata": {
    "collapsed": false
   },
   "outputs": [
    {
     "data": {
      "text/plain": [
       "Store: items = 0, account = 100.000000"
      ]
     },
     "execution_count": 29,
     "metadata": {},
     "output_type": "execute_result"
    }
   ],
   "source": [
    "Store store = new Store();\n",
    "store"
   ]
  },
  {
   "cell_type": "code",
   "execution_count": 30,
   "metadata": {
    "collapsed": false
   },
   "outputs": [
    {
     "data": {
      "text/plain": [
       "Store: items = 2000, account = 0.000000"
      ]
     },
     "execution_count": 30,
     "metadata": {},
     "output_type": "execute_result"
    }
   ],
   "source": [
    "store.buy(2000, 0.05d);\n",
    "store"
   ]
  },
  {
   "cell_type": "code",
   "execution_count": 31,
   "metadata": {
    "collapsed": false
   },
   "outputs": [
    {
     "data": {
      "text/plain": [
       "Store: items = 0, account = 200.000000"
      ]
     },
     "execution_count": 31,
     "metadata": {},
     "output_type": "execute_result"
    }
   ],
   "source": [
    "store.sell(2000, 0.1);\n",
    "store"
   ]
  },
  {
   "cell_type": "code",
   "execution_count": 32,
   "metadata": {
    "collapsed": false
   },
   "outputs": [
    {
     "data": {
      "text/plain": [
       "Store: items = 3999, account = 0.050000"
      ]
     },
     "execution_count": 32,
     "metadata": {},
     "output_type": "execute_result"
    }
   ],
   "source": [
    "store.buy(4000, 0.05);\n",
    "store"
   ]
  },
  {
   "cell_type": "markdown",
   "metadata": {},
   "source": [
    "### Comparison"
   ]
  },
  {
   "cell_type": "code",
   "execution_count": 33,
   "metadata": {
    "collapsed": false
   },
   "outputs": [
    {
     "name": "stdout",
     "output_type": "stream",
     "text": [
      "false\n"
     ]
    }
   ],
   "source": [
    "double x1 = 0.3;\n",
    "double x2 = 0.1 + 0.1 + 0.1;\n",
    "System.out.println(x1 == x2);"
   ]
  },
  {
   "cell_type": "code",
   "execution_count": 34,
   "metadata": {
    "collapsed": false
   },
   "outputs": [
    {
     "name": "stdout",
     "output_type": "stream",
     "text": [
      "true\n"
     ]
    }
   ],
   "source": [
    "double z1 = 0.5;\n",
    "double z2 = 0.1 + 0.1 + 0.1 + 0.1 + 0.1;\n",
    "System.out.println(z1 == z2);"
   ]
  },
  {
   "cell_type": "code",
   "execution_count": 35,
   "metadata": {
    "collapsed": false
   },
   "outputs": [
    {
     "name": "stdout",
     "output_type": "stream",
     "text": [
      "true\n"
     ]
    }
   ],
   "source": [
    "double a = 12345.0;\n",
    "double b = 1e-16;\n",
    "System.out.println((a + b) == a);"
   ]
  },
  {
   "cell_type": "code",
   "execution_count": 36,
   "metadata": {
    "collapsed": false
   },
   "outputs": [
    {
     "name": "stdout",
     "output_type": "stream",
     "text": [
      "false\n"
     ]
    }
   ],
   "source": [
    "float f = (float) ( 3.0 / 7.0 );\n",
    "print(f == (3.0 / 7.0));"
   ]
  },
  {
   "cell_type": "code",
   "execution_count": 37,
   "metadata": {
    "collapsed": false
   },
   "outputs": [
    {
     "name": "stdout",
     "output_type": "stream",
     "text": [
      "true\n"
     ]
    }
   ],
   "source": [
    "print(f == ((float)(3.0 / 7.0)));"
   ]
  },
  {
   "cell_type": "markdown",
   "metadata": {},
   "source": [
    "### Same numbers"
   ]
  },
  {
   "cell_type": "code",
   "execution_count": 38,
   "metadata": {
    "collapsed": false
   },
   "outputs": [
    {
     "name": "stdout",
     "output_type": "stream",
     "text": [
      "0.9200000000000002\n",
      "0.9200000000000002\n"
     ]
    }
   ],
   "source": [
    "print(0.9200000000000002);\n",
    "print(0.9200000000000001);"
   ]
  },
  {
   "cell_type": "markdown",
   "metadata": {},
   "source": [
    "### Rounding"
   ]
  },
  {
   "cell_type": "code",
   "execution_count": 39,
   "metadata": {
    "collapsed": false
   },
   "outputs": [
    {
     "name": "stdout",
     "output_type": "stream",
     "text": [
      "1.09 * 50 = 54.50000000000000710542735760100185871124267578125\n",
      "rounds to 55\n"
     ]
    }
   ],
   "source": [
    "double a = 1.09 * 50;\n",
    "print(\"1.09 * 50 = \" + new BigDecimal(a));\n",
    "print(\"rounds to \" + Math.round(a));"
   ]
  },
  {
   "cell_type": "code",
   "execution_count": 40,
   "metadata": {
    "collapsed": false
   },
   "outputs": [
    {
     "name": "stdout",
     "output_type": "stream",
     "text": [
      "1.14 * 75 = 85.4999999999999857891452847979962825775146484375\n",
      "rounds to 85\n"
     ]
    }
   ],
   "source": [
    "double b = 1.14 * 75;\n",
    "print(\"1.14 * 75 = \" + new BigDecimal(b));\n",
    "print(\"rounds to \" + Math.round(b));"
   ]
  },
  {
   "cell_type": "code",
   "execution_count": 41,
   "metadata": {
    "collapsed": false
   },
   "outputs": [
    {
     "name": "stdout",
     "output_type": "stream",
     "text": [
      "3.4028235E38\n",
      "3.4028235E38\n",
      "3.4028235E38\n",
      "Infinity\n"
     ]
    }
   ],
   "source": [
    "print(Float.MAX_VALUE);\n",
    "print(Float.MAX_VALUE + 1f);\n",
    "print(Float.MAX_VALUE + 1000f);\n",
    "print(Float.MAX_VALUE + Float.MAX_VALUE);"
   ]
  },
  {
   "cell_type": "code",
   "execution_count": null,
   "metadata": {
    "collapsed": true
   },
   "outputs": [],
   "source": []
  }
 ],
 "metadata": {
  "kernelspec": {
   "display_name": "Java",
   "language": "java",
   "name": "java"
  },
  "language_info": {
   "codemirror_mode": "java",
   "file_extension": ".java",
   "mimetype": "text/x-java-source",
   "name": "Java",
   "pygments_lexer": "java",
   "version": "9.0.4+11"
  }
 },
 "nbformat": 4,
 "nbformat_minor": 2
}
